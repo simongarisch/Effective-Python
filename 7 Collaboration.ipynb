{
 "cells": [
  {
   "cell_type": "markdown",
   "metadata": {},
   "source": [
    "## Write docstrings for every function, class and module\n",
    "Docstring conventions: https://www.python.org/dev/peps/pep-0257/"
   ]
  },
  {
   "cell_type": "code",
   "execution_count": 1,
   "metadata": {
    "collapsed": true
   },
   "outputs": [],
   "source": [
    "def palindrome(word):\n",
    "    ''' Return True if the given word is a palindrome '''\n",
    "    return word == word[::-1]"
   ]
  },
  {
   "cell_type": "code",
   "execution_count": 2,
   "metadata": {
    "collapsed": false
   },
   "outputs": [
    {
     "data": {
      "text/plain": [
       "[True, True, True, True, True]"
      ]
     },
     "execution_count": 2,
     "metadata": {},
     "output_type": "execute_result"
    }
   ],
   "source": [
    "words = [\"pup\", \"pop\", \"mom\", \"sis\", \"tot\"]\n",
    "[palindrome(word) for word in words]"
   ]
  },
  {
   "cell_type": "code",
   "execution_count": 3,
   "metadata": {
    "collapsed": false
   },
   "outputs": [
    {
     "name": "stdout",
     "output_type": "stream",
     "text": [
      "Help on function palindrome in module __main__:\n",
      "\n",
      "palindrome(word)\n",
      "    Return True if the given word is a palindrome\n",
      "\n"
     ]
    }
   ],
   "source": [
    "help(palindrome)"
   ]
  },
  {
   "cell_type": "code",
   "execution_count": 4,
   "metadata": {
    "collapsed": false
   },
   "outputs": [
    {
     "data": {
      "text/plain": [
       "' Return True if the given word is a palindrome '"
      ]
     },
     "execution_count": 4,
     "metadata": {},
     "output_type": "execute_result"
    }
   ],
   "source": [
    "palindrome.__doc__"
   ]
  },
  {
   "cell_type": "markdown",
   "metadata": {},
   "source": [
    "A standard way of defining documentation makes it easy to build tools that convert the text into more appealing formats (like HTML). This has led to excellent documentation-generation tools for the Python community, such as Sphinx (http://sphinx-doc.org). It’s also enabled community-funded sites like Read the Docs (https://readthedocs.org) that provide free hosting of beautiful-looking documentation for open source Python projects."
   ]
  },
  {
   "cell_type": "markdown",
   "metadata": {},
   "source": [
    "An example of documenting modules..."
   ]
  },
  {
   "cell_type": "code",
   "execution_count": 8,
   "metadata": {
    "collapsed": false
   },
   "outputs": [],
   "source": [
    "# words.py\n",
    "#!/usr/bin/env python3\n",
    "\"\"\" Library for testing words for various linguistic patterns.\n",
    "    Testing how words relate to each other can be tricky sometimes!\n",
    "    This module provides easy ways to determine when words you’ve\n",
    "    found have special properties.\n",
    "    Available functions:\n",
    "        - palindrome: Determine if a word is a palindrome.\n",
    "        - check_anagram: Determine if two words are anagrams.\n",
    "\"\"\"\n",
    "pass"
   ]
  },
  {
   "cell_type": "markdown",
   "metadata": {},
   "source": [
    "There should also be docs at the class and method level providing a description along with any args or kwargs."
   ]
  },
  {
   "cell_type": "markdown",
   "metadata": {},
   "source": [
    "## Use Packages to Organize Modules and Provide Stable APIs\n",
    "In most cases, packages are defined by putting an empty file named __init__.py into a directory. Once __init__.py is present, any other Python files in that directory will be available for import using a path relative to the directory.\n",
    "* The first use of packages is to help divide your modules into separate namespaces. \n",
    "* The second use of packages in Python is to provide strict, stable APIs for external consumers."
   ]
  },
  {
   "cell_type": "markdown",
   "metadata": {},
   "source": [
    "## Define a Root Exception to Insulate Callers from APIs\n",
    "In some cases, using ValueError makes sense, but for APIs it’s much more powerful to define your own hierarchy of exceptions."
   ]
  },
  {
   "cell_type": "code",
   "execution_count": 9,
   "metadata": {
    "collapsed": true
   },
   "outputs": [],
   "source": [
    "class Error(Exception):\n",
    "    \"\"\" Base-class for all exceptions raised by this module. \"\"\"\n",
    "    \n",
    "class InvalidDensityError(Error):\n",
    "    \"\"\" There was a problem with a provided density value. \"\"\""
   ]
  },
  {
   "cell_type": "code",
   "execution_count": 13,
   "metadata": {
    "collapsed": false
   },
   "outputs": [
    {
     "ename": "InvalidDensityError",
     "evalue": "",
     "output_type": "error",
     "traceback": [
      "\u001b[1;31m---------------------------------------------------------------------------\u001b[0m",
      "\u001b[1;31mInvalidDensityError\u001b[0m                       Traceback (most recent call last)",
      "\u001b[1;32m<ipython-input-13-0662ed87b08c>\u001b[0m in \u001b[0;36m<module>\u001b[1;34m()\u001b[0m\n\u001b[1;32m----> 1\u001b[1;33m \u001b[1;32mraise\u001b[0m \u001b[0mInvalidDensityError\u001b[0m\u001b[1;33m\u001b[0m\u001b[0m\n\u001b[0m",
      "\u001b[1;31mInvalidDensityError\u001b[0m: "
     ]
    }
   ],
   "source": [
    "raise InvalidDensityError"
   ]
  },
  {
   "cell_type": "markdown",
   "metadata": {},
   "source": [
    "If your code only deliberately raises exceptions that you define within your module’s hierarchy, then all other types of exceptions raised by your module must be the ones that you didn’t intend to raise. These are bugs in your API’s code."
   ]
  },
  {
   "cell_type": "code",
   "execution_count": 14,
   "metadata": {
    "collapsed": true
   },
   "outputs": [],
   "source": [
    "class CustomException(Exception):\n",
    "    def __init__(self):\n",
    "        super(CustomException, self).__init__(\"Well, that rather badly didnt it?\") "
   ]
  },
  {
   "cell_type": "code",
   "execution_count": 15,
   "metadata": {
    "collapsed": false
   },
   "outputs": [
    {
     "ename": "CustomException",
     "evalue": "Well, that rather badly didnt it?",
     "output_type": "error",
     "traceback": [
      "\u001b[1;31m---------------------------------------------------------------------------\u001b[0m",
      "\u001b[1;31mCustomException\u001b[0m                           Traceback (most recent call last)",
      "\u001b[1;32m<ipython-input-15-a6ac89265599>\u001b[0m in \u001b[0;36m<module>\u001b[1;34m()\u001b[0m\n\u001b[1;32m----> 1\u001b[1;33m \u001b[1;32mraise\u001b[0m \u001b[0mCustomException\u001b[0m\u001b[1;33m\u001b[0m\u001b[0m\n\u001b[0m",
      "\u001b[1;31mCustomException\u001b[0m: Well, that rather badly didnt it?"
     ]
    }
   ],
   "source": [
    "raise CustomException"
   ]
  },
  {
   "cell_type": "markdown",
   "metadata": {},
   "source": [
    "## Know How to Break Circular Dependencies\n",
    "The style guide suggests that you always put imports at the top of your Python files. This makes your module’s dependencies clear to new readers of the code. It also ensures that any module you depend on is in scope and available to all the code in your module."
   ]
  },
  {
   "cell_type": "markdown",
   "metadata": {},
   "source": [
    "## Use Virtual Environments for Isolated and Reproducible Dependencies\n",
    "Python can only use a single global version of a module installed at a time. If one of your installed packages must use the new version and another package must use the old version, your system isn't going to work properly. There is a constant risk of the ground moving beneath your feet. The solution to this is a tool called pyvenv, which provides virtual environments (Python 3). Earlier versions of Python require a separate package (with pip install virtualenv) to do this."
   ]
  },
  {
   "cell_type": "code",
   "execution_count": 1,
   "metadata": {
    "collapsed": false
   },
   "outputs": [
    {
     "name": "stdout",
     "output_type": "stream",
     "text": [
      "Collecting pipenv\n",
      "  Downloading https://files.pythonhosted.org/packages/7e/01/3faf5d7e80c8c0612667b12104ae205a5e33d502f84b6e8bfdc07a2eb9fa/pipenv-2018.5.18.tar.gz (5.9MB)\n",
      "Requirement already satisfied: pip>=9.0.1 in c:\\anaconda2\\envs\\r\\lib\\site-packages (from pipenv)\n",
      "Requirement already satisfied: certifi in c:\\anaconda2\\envs\\r\\lib\\site-packages (from pipenv)\n",
      "Requirement already satisfied: setuptools>=36.2.1 in c:\\anaconda2\\envs\\r\\lib\\site-packages (from pipenv)\n",
      "Collecting virtualenv-clone>=0.2.5 (from pipenv)\n",
      "  Downloading https://files.pythonhosted.org/packages/6d/c2/dccb5ccf599e0c5d1eea6acbd058af7a71384f9740179db67a9182a24798/virtualenv_clone-0.3.0-py2.py3-none-any.whl\n",
      "Collecting virtualenv (from pipenv)\n",
      "  Downloading https://files.pythonhosted.org/packages/b6/30/96a02b2287098b23b875bc8c2f58071c35d2efe84f747b64d523721dc2b5/virtualenv-16.0.0-py2.py3-none-any.whl (1.9MB)\n",
      "Building wheels for collected packages: pipenv\n",
      "  Running setup.py bdist_wheel for pipenv: started\n",
      "  Running setup.py bdist_wheel for pipenv: finished with status 'done'\n",
      "  Stored in directory: C:\\Users\\simon.garisch\\AppData\\Local\\pip\\Cache\\wheels\\9d\\69\\c1\\359be86a28d70eb21c17095a782b7e3ad5a5aadfcfb77edff9\n",
      "Successfully built pipenv\n",
      "Installing collected packages: virtualenv-clone, virtualenv, pipenv\n",
      "Successfully installed pipenv-2018.5.18 virtualenv-16.0.0 virtualenv-clone-0.3.0\n"
     ]
    },
    {
     "name": "stderr",
     "output_type": "stream",
     "text": [
      "You are using pip version 9.0.1, however version 10.0.1 is available.\n",
      "You should consider upgrading via the 'python -m pip install --upgrade pip' command.\n"
     ]
    }
   ],
   "source": [
    "! pip install pipenv"
   ]
  },
  {
   "cell_type": "code",
   "execution_count": 12,
   "metadata": {
    "collapsed": false
   },
   "outputs": [
    {
     "name": "stdout",
     "output_type": "stream",
     "text": [
      " Volume in drive U is New Volume\n",
      " Volume Serial Number is AAD0-7DCA\n",
      "\n",
      " Directory of U:\\git\\Effective-Python\n",
      "\n",
      "28/05/2018  12:32 PM    <DIR>          .\n",
      "28/05/2018  12:32 PM    <DIR>          ..\n",
      "23/04/2018  05:29 PM             1,258 .gitignore\n",
      "23/05/2018  11:39 AM    <DIR>          .ipynb_checkpoints\n",
      "23/04/2018  05:16 PM            19,867 1 Pythonic Thinking.ipynb\n",
      "02/05/2018  07:01 PM            21,706 2 Functions.ipynb\n",
      "03/05/2018  06:27 PM            26,085 3 Classes and Inheritance.ipynb\n",
      "07/05/2018  09:20 AM            35,868 4 Metaclasses and Attributes.ipynb\n",
      "23/05/2018  09:33 AM            49,592 5 Concurrency and Parallelism.ipynb\n",
      "23/05/2018  11:37 AM            23,133 6 Built-in modules.ipynb\n",
      "28/05/2018  12:30 PM            13,730 7 Collaboration.ipynb\n",
      "23/05/2018  09:49 AM               123 game_state.bin\n",
      "09/05/2018  06:11 PM                29 myBatch.bat\n",
      "23/04/2018  05:29 PM               241 README.md\n",
      "              11 File(s)        191,632 bytes\n",
      "               3 Dir(s)  319,653,642,240 bytes free\n"
     ]
    }
   ],
   "source": [
    "! dir"
   ]
  },
  {
   "cell_type": "code",
   "execution_count": 13,
   "metadata": {
    "collapsed": false
   },
   "outputs": [],
   "source": [
    "! if not exist \"myProject\" mkdir myProject"
   ]
  },
  {
   "cell_type": "code",
   "execution_count": 14,
   "metadata": {
    "collapsed": false
   },
   "outputs": [
    {
     "name": "stdout",
     "output_type": "stream",
     "text": [
      " Volume in drive U is New Volume\n",
      " Volume Serial Number is AAD0-7DCA\n",
      "\n",
      " Directory of U:\\git\\Effective-Python\n",
      "\n",
      "28/05/2018  12:32 PM    <DIR>          .\n",
      "28/05/2018  12:32 PM    <DIR>          ..\n",
      "23/04/2018  05:29 PM             1,258 .gitignore\n",
      "23/05/2018  11:39 AM    <DIR>          .ipynb_checkpoints\n",
      "23/04/2018  05:16 PM            19,867 1 Pythonic Thinking.ipynb\n",
      "02/05/2018  07:01 PM            21,706 2 Functions.ipynb\n",
      "03/05/2018  06:27 PM            26,085 3 Classes and Inheritance.ipynb\n",
      "07/05/2018  09:20 AM            35,868 4 Metaclasses and Attributes.ipynb\n",
      "23/05/2018  09:33 AM            49,592 5 Concurrency and Parallelism.ipynb\n",
      "23/05/2018  11:37 AM            23,133 6 Built-in modules.ipynb\n",
      "28/05/2018  12:30 PM            13,730 7 Collaboration.ipynb\n",
      "23/05/2018  09:49 AM               123 game_state.bin\n",
      "09/05/2018  06:11 PM                29 myBatch.bat\n",
      "28/05/2018  12:32 PM    <DIR>          myProject\n",
      "23/04/2018  05:29 PM               241 README.md\n",
      "              11 File(s)        195,728 bytes\n",
      "               4 Dir(s)  319,653,642,240 bytes free\n"
     ]
    }
   ],
   "source": [
    "! dir"
   ]
  },
  {
   "cell_type": "code",
   "execution_count": 18,
   "metadata": {
    "collapsed": false
   },
   "outputs": [
    {
     "name": "stdout",
     "output_type": "stream",
     "text": [
      "U:\\git\\Effective-Python\\myProject\n"
     ]
    }
   ],
   "source": [
    "%cd myProject"
   ]
  },
  {
   "cell_type": "code",
   "execution_count": 19,
   "metadata": {
    "collapsed": false
   },
   "outputs": [
    {
     "name": "stdout",
     "output_type": "stream",
     "text": [
      " Volume in drive U is New Volume\n",
      " Volume Serial Number is AAD0-7DCA\n",
      "\n",
      " Directory of U:\\git\\Effective-Python\\myProject\n",
      "\n",
      "28/05/2018  12:32 PM    <DIR>          .\n",
      "28/05/2018  12:32 PM    <DIR>          ..\n",
      "               0 File(s)              0 bytes\n",
      "               2 Dir(s)  319,653,642,240 bytes free\n"
     ]
    }
   ],
   "source": [
    "! dir"
   ]
  },
  {
   "cell_type": "code",
   "execution_count": 20,
   "metadata": {
    "collapsed": false
   },
   "outputs": [
    {
     "name": "stdout",
     "output_type": "stream",
     "text": [
      "Installing requestsâ€¦\n",
      "\n",
      "Collecting requests\n",
      "\n",
      "  Downloading https://files.pythonhosted.org/packages/49/df/50aa1999ab9bde74656c2919d9c0c085fd2b3775fd3eca826012bef76d8c/requests-2.18.4-py2.py3-none-any.whl (88kB)\n",
      "\n",
      "Collecting urllib3<1.23,>=1.21.1 (from requests)\n",
      "\n",
      "  Downloading https://files.pythonhosted.org/packages/63/cb/6965947c13a94236f6d4b8223e21beb4d576dc72e8130bd7880f600839b8/urllib3-1.22-py2.py3-none-any.whl (132kB)\n",
      "\n",
      "Collecting idna<2.7,>=2.5 (from requests)\n",
      "\n",
      "  Downloading https://files.pythonhosted.org/packages/27/cc/6dd9a3869f15c2edfab863b992838277279ce92663d334df9ecf5106f5c6/idna-2.6-py2.py3-none-any.whl (56kB)\n",
      "\n",
      "Collecting chardet<3.1.0,>=3.0.2 (from requests)\n",
      "\n",
      "  Downloading https://files.pythonhosted.org/packages/bc/a9/01ffebfb562e4274b6487b4bb1ddec7ca55ec7510b22e4c51f14098443b8/chardet-3.0.4-py2.py3-none-any.whl (133kB)\n",
      "\n",
      "Collecting certifi>=2017.4.17 (from requests)\n",
      "\n",
      "  Downloading https://files.pythonhosted.org/packages/7c/e6/92ad559b7192d846975fc916b65f667c7b8c3a32bea7372340bfe9a15fa5/certifi-2018.4.16-py2.py3-none-any.whl (150kB)\n",
      "\n",
      "Installing collected packages: urllib3, idna, chardet, certifi, requests\n",
      "\n",
      "Successfully installed certifi-2018.4.16 chardet-3.0.4 idna-2.6 requests-2.18.4 urllib3-1.22\n",
      "\n",
      "\n",
      "\n",
      "Adding requests to Pipfile's [packages]â€¦\n",
      "Installing dependencies from Pipfile.lock (ab273c)â€¦\n",
      "\n",
      "To activate this project's virtualenv, run the following:\n",
      " $ pipenv shell\n"
     ]
    },
    {
     "name": "stderr",
     "output_type": "stream",
     "text": [
      "Creating a virtualenv for this projectâ€¦\n",
      "\n",
      "Using c:\\anaconda2\\envs\\r\\python.exe (2.7.12) to create virtualenvâ€¦\n",
      "\n",
      "Already using interpreter c:\\anaconda2\\envs\\r\\python.exe\n",
      "\n",
      "New python executable in C:\\Users\\simon.garisch\\.virtualenvs\\myProject-SGfaWg8H\\Scripts\\python.exe\n",
      "\n",
      "Installing setuptools, pip, wheel...done.\n",
      "\n",
      "\n",
      "\n",
      "Virtualenv location: C:\\Users\\simon.garisch\\.virtualenvs\\myProject-SGfaWg8H\n",
      "Creating a Pipfile for this projectâ€¦\n",
      "\n",
      "Pipfile.lock not found, creatingâ€¦\n",
      "\n",
      "Locking [dev-packages] dependenciesâ€¦\n",
      "\n",
      "Locking [packages] dependenciesâ€¦\n",
      "\n",
      "Updated Pipfile.lock (ab273c)!\n"
     ]
    }
   ],
   "source": [
    "! pipenv install requests"
   ]
  },
  {
   "cell_type": "code",
   "execution_count": 21,
   "metadata": {
    "collapsed": false
   },
   "outputs": [
    {
     "name": "stdout",
     "output_type": "stream",
     "text": [
      " Volume in drive U is New Volume\n",
      " Volume Serial Number is AAD0-7DCA\n",
      "\n",
      " Directory of U:\\git\\Effective-Python\\myProject\n",
      "\n",
      "28/05/2018  12:35 PM    <DIR>          .\n",
      "28/05/2018  12:35 PM    <DIR>          ..\n",
      "28/05/2018  12:35 PM               153 Pipfile\n",
      "28/05/2018  12:35 PM             1,911 Pipfile.lock\n",
      "               2 File(s)          2,064 bytes\n",
      "               2 Dir(s)  319,631,200,256 bytes free\n"
     ]
    }
   ],
   "source": [
    "! dir"
   ]
  },
  {
   "cell_type": "code",
   "execution_count": 23,
   "metadata": {
    "collapsed": true
   },
   "outputs": [],
   "source": [
    "with open(\"main.py\", \"w\") as f:\n",
    "    f.write(\"import requests \\n\")\n",
    "    f.write(\"req = requests.get('https://www.google.com/') \\n\")\n",
    "    f.write(\"print(req.encoding) \\n\")\n",
    "    f.write(\"print(req.status_code) \\n\")"
   ]
  },
  {
   "cell_type": "code",
   "execution_count": 24,
   "metadata": {
    "collapsed": false
   },
   "outputs": [
    {
     "name": "stdout",
     "output_type": "stream",
     "text": [
      "ISO-8859-1\n",
      "200\n"
     ]
    }
   ],
   "source": [
    "! pipenv run python main.py"
   ]
  },
  {
   "cell_type": "code",
   "execution_count": 25,
   "metadata": {
    "collapsed": false
   },
   "outputs": [
    {
     "name": "stdout",
     "output_type": "stream",
     "text": [
      "requests==2.18.4\n",
      "\n",
      "  - certifi [required: >=2017.4.17, installed: 2018.4.16]\n",
      "\n",
      "  - chardet [required: >=3.0.2,<3.1.0, installed: 3.0.4]\n",
      "\n",
      "  - idna [required: >=2.5,<2.7, installed: 2.6]\n",
      "\n",
      "  - urllib3 [required: <1.23,>=1.21.1, installed: 1.22]\n",
      "\n",
      "\n",
      "\n"
     ]
    }
   ],
   "source": [
    "! pipenv graph"
   ]
  },
  {
   "cell_type": "markdown",
   "metadata": {},
   "source": [
    "If you only have a requirements.txt file available when running pipenv install, pipenv will automatically import the contents of this file and create a Pipfile for you. Notice that 'pipfile' and 'pipfile.lock' were created when we called 'pipenv install'. Managing a requirements.txt file can be problematic, so Pipenv uses the upcoming Pipfile and Pipfile.lock instead, which is superior for basic use cases. See the github page here: https://github.com/pypa/pipenv."
   ]
  }
 ],
 "metadata": {
  "anaconda-cloud": {},
  "kernelspec": {
   "display_name": "Python 2",
   "language": "python",
   "name": "python2"
  },
  "language_info": {
   "codemirror_mode": {
    "name": "ipython",
    "version": 2
   },
   "file_extension": ".py",
   "mimetype": "text/x-python",
   "name": "python",
   "nbconvert_exporter": "python",
   "pygments_lexer": "ipython2",
   "version": "2.7.12"
  }
 },
 "nbformat": 4,
 "nbformat_minor": 2
}
