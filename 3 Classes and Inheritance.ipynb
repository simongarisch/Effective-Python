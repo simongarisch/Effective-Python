{
 "cells": [
  {
   "cell_type": "markdown",
   "metadata": {},
   "source": [
    "## Prefer Helper Classes Over Bookkeeping with Dictionaries and Tuples"
   ]
  },
  {
   "cell_type": "code",
   "execution_count": 1,
   "metadata": {
    "collapsed": false
   },
   "outputs": [
    {
     "name": "stdout",
     "output_type": "stream",
     "text": [
      "90\n"
     ]
    }
   ],
   "source": [
    "class SimpleGradebook(object):\n",
    "    def __init__(self):\n",
    "        self._grades = {}\n",
    "    \n",
    "    def add_student(self, name):\n",
    "        self._grades[name] = []\n",
    "\n",
    "    def report_grade(self, name, score):\n",
    "        self._grades[name].append(score)\n",
    "\n",
    "    def average_grade(self, name):\n",
    "        grades = self._grades[name]\n",
    "        return sum(grades) / len(grades)\n",
    "\n",
    "book = SimpleGradebook()\n",
    "book.add_student('Isaac Newton')\n",
    "book.report_grade('Isaac Newton', 90)\n",
    "print(book.average_grade('Isaac Newton'))"
   ]
  },
  {
   "cell_type": "code",
   "execution_count": 4,
   "metadata": {
    "collapsed": false
   },
   "outputs": [
    {
     "data": {
      "text/plain": [
       "Grade(score=10, weight=0.25)"
      ]
     },
     "execution_count": 4,
     "metadata": {},
     "output_type": "execute_result"
    }
   ],
   "source": [
    "# refactoring as classes\n",
    "import collections\n",
    "Grade = collections.namedtuple('Grade', ('score', 'weight'))\n",
    "\n",
    "# as an example\n",
    "grade = Grade(10, 0.25)\n",
    "grade"
   ]
  },
  {
   "cell_type": "code",
   "execution_count": 7,
   "metadata": {
    "collapsed": false
   },
   "outputs": [
    {
     "data": {
      "text/plain": [
       "9.0"
      ]
     },
     "execution_count": 7,
     "metadata": {},
     "output_type": "execute_result"
    }
   ],
   "source": [
    "class Subject(object):\n",
    "    def __init__(self):\n",
    "        self._grades = []\n",
    "        \n",
    "    def report_grade(self, score, weight):\n",
    "        self._grades.append(Grade(score, weight))\n",
    "\n",
    "    def average_grade(self):\n",
    "        total, total_weight = 0, 0\n",
    "        for grade in self._grades:\n",
    "            total += grade.score * grade.weight\n",
    "            total_weight += grade.weight\n",
    "        return total / total_weight\n",
    "\n",
    "subject = Subject()\n",
    "subject.report_grade(10, 0.5)\n",
    "subject.report_grade(8, 0.5)\n",
    "subject.average_grade()"
   ]
  },
  {
   "cell_type": "code",
   "execution_count": 9,
   "metadata": {
    "collapsed": true
   },
   "outputs": [],
   "source": [
    "class Student(object):\n",
    "    def __init__(self):\n",
    "        self._subjects = {}\n",
    "        \n",
    "    def subject(self, name):\n",
    "        if name not in self._subjects:\n",
    "            self._subjects[name] = Subject()\n",
    "        return self._subjects[name]\n",
    "    \n",
    "    def average_grade(self):\n",
    "        total, count = 0, 0\n",
    "        for subject in self._subjects.values():\n",
    "            total += subject.average_grade()\n",
    "            count += 1\n",
    "        return total / count\n",
    "    "
   ]
  },
  {
   "cell_type": "code",
   "execution_count": 10,
   "metadata": {
    "collapsed": true
   },
   "outputs": [],
   "source": [
    "class Gradebook(object):\n",
    "    pass\n",
    "    def __init__(self):\n",
    "        self._students = {}\n",
    "\n",
    "    def student(self, name):\n",
    "        if name not in self._students:\n",
    "            self._students[name] = Student()\n",
    "        return self._students[name]\n",
    "    "
   ]
  },
  {
   "cell_type": "code",
   "execution_count": 13,
   "metadata": {
    "collapsed": false
   },
   "outputs": [
    {
     "name": "stdout",
     "output_type": "stream",
     "text": [
      "90.0\n"
     ]
    }
   ],
   "source": [
    "book = Gradebook()\n",
    "albert = book.student('Albert Einstein')\n",
    "math = albert.subject('Math')\n",
    "math.report_grade(80, 0.50)\n",
    "math.report_grade(100, 0.50)\n",
    "\n",
    "print(albert.average_grade())"
   ]
  },
  {
   "cell_type": "markdown",
   "metadata": {},
   "source": [
    "## Accept functions for simple interfaces instead of classes"
   ]
  },
  {
   "cell_type": "code",
   "execution_count": 1,
   "metadata": {
    "collapsed": false
   },
   "outputs": [
    {
     "data": {
      "text/plain": [
       "['Put', 'some', 'here', 'names']"
      ]
     },
     "execution_count": 1,
     "metadata": {},
     "output_type": "execute_result"
    }
   ],
   "source": [
    "names = [\"Put\", \"some\", \"names\", \"here\"]\n",
    "names.sort(key=lambda x: len(x))\n",
    "names"
   ]
  },
  {
   "cell_type": "markdown",
   "metadata": {},
   "source": [
    "Here we have a defaultdict example where a hook logs missing keys:"
   ]
  },
  {
   "cell_type": "code",
   "execution_count": 2,
   "metadata": {
    "collapsed": true
   },
   "outputs": [],
   "source": [
    "def log_missing():\n",
    "    return 0"
   ]
  },
  {
   "cell_type": "code",
   "execution_count": 4,
   "metadata": {
    "collapsed": true
   },
   "outputs": [],
   "source": [
    "current = {\"green\": 12, \"blue\": 3}\n",
    "increments = [\n",
    "    (\"red\", 5),\n",
    "    (\"blue\", 17),\n",
    "    (\"orange\", 9)\n",
    "]"
   ]
  },
  {
   "cell_type": "code",
   "execution_count": 9,
   "metadata": {
    "collapsed": false
   },
   "outputs": [
    {
     "data": {
      "text/plain": [
       "defaultdict(<function __main__.log_missing>, {'blue': 3, 'green': 12})"
      ]
     },
     "execution_count": 9,
     "metadata": {},
     "output_type": "execute_result"
    }
   ],
   "source": [
    "# https://docs.python.org/2/library/collections.html#collections.defaultdict\n",
    "import collections\n",
    "result = collections.defaultdict(log_missing, current)\n",
    "result"
   ]
  },
  {
   "cell_type": "code",
   "execution_count": 10,
   "metadata": {
    "collapsed": false
   },
   "outputs": [
    {
     "data": {
      "text/plain": [
       "defaultdict(<function __main__.log_missing>,\n",
       "            {'blue': 20, 'green': 12, 'orange': 9, 'red': 5})"
      ]
     },
     "execution_count": 10,
     "metadata": {},
     "output_type": "execute_result"
    }
   ],
   "source": [
    "for key, value in increments:\n",
    "    result[key] += value\n",
    "result"
   ]
  },
  {
   "cell_type": "markdown",
   "metadata": {},
   "source": [
    "Python allows classes to define the __call__ special method which allows the object to be called just like a function."
   ]
  },
  {
   "cell_type": "code",
   "execution_count": 14,
   "metadata": {
    "collapsed": false
   },
   "outputs": [
    {
     "data": {
      "text/plain": [
       "0"
      ]
     },
     "execution_count": 14,
     "metadata": {},
     "output_type": "execute_result"
    }
   ],
   "source": [
    "class SomeCounter(object):\n",
    "    def __init__(self):\n",
    "        self.added = 0\n",
    "        \n",
    "    def __call__(self):\n",
    "        self.added += 1\n",
    "        return 0\n",
    "    \n",
    "counter = SomeCounter()\n",
    "counter.added"
   ]
  },
  {
   "cell_type": "code",
   "execution_count": 15,
   "metadata": {
    "collapsed": false
   },
   "outputs": [
    {
     "data": {
      "text/plain": [
       "1"
      ]
     },
     "execution_count": 15,
     "metadata": {},
     "output_type": "execute_result"
    }
   ],
   "source": [
    "counter()\n",
    "counter.added"
   ]
  },
  {
   "cell_type": "code",
   "execution_count": 17,
   "metadata": {
    "collapsed": false
   },
   "outputs": [
    {
     "data": {
      "text/plain": [
       "True"
      ]
     },
     "execution_count": 17,
     "metadata": {},
     "output_type": "execute_result"
    }
   ],
   "source": [
    "callable(counter)"
   ]
  },
  {
   "cell_type": "markdown",
   "metadata": {},
   "source": [
    "## Use @classmethod polymorphism to construct objects generically.\n",
    "Python only supports a single constructor per class via the init method. We can use @classmethodd to define alternative constructors."
   ]
  },
  {
   "cell_type": "code",
   "execution_count": 6,
   "metadata": {
    "collapsed": false
   },
   "outputs": [],
   "source": [
    "# https://stackoverflow.com/questions/682504/what-is-a-clean-pythonic-way-to-have-multiple-constructors-in-python\n",
    "from random import randint\n",
    "\n",
    "class Cheese(object):\n",
    "    def __init__(self, num_holes=0):\n",
    "        ''' defaults to a solid cheese '''\n",
    "        self.number_of_holes = num_holes\n",
    "\n",
    "    @classmethod\n",
    "    def random(cls):\n",
    "        return cls(randint(0, 100))\n",
    "\n",
    "    @classmethod\n",
    "    def slightly_holey(cls):\n",
    "        return cls(randint(0, 33))\n",
    "                   \n",
    "    @classmethod\n",
    "    def very_holey(cls):\n",
    "        return cls(randint(66, 100))\n",
    "                   \n",
    "gouda = Cheese()\n",
    "emmentaler = Cheese.random()\n",
    "leerdammer = Cheese.slightly_holey()"
   ]
  },
  {
   "cell_type": "code",
   "execution_count": 7,
   "metadata": {
    "collapsed": false
   },
   "outputs": [
    {
     "data": {
      "text/plain": [
       "0"
      ]
     },
     "execution_count": 7,
     "metadata": {},
     "output_type": "execute_result"
    }
   ],
   "source": [
    "gouda.number_of_holes"
   ]
  },
  {
   "cell_type": "code",
   "execution_count": 8,
   "metadata": {
    "collapsed": false
   },
   "outputs": [
    {
     "data": {
      "text/plain": [
       "77"
      ]
     },
     "execution_count": 8,
     "metadata": {},
     "output_type": "execute_result"
    }
   ],
   "source": [
    "emmentaler.number_of_holes"
   ]
  },
  {
   "cell_type": "code",
   "execution_count": 9,
   "metadata": {
    "collapsed": false
   },
   "outputs": [
    {
     "data": {
      "text/plain": [
       "3"
      ]
     },
     "execution_count": 9,
     "metadata": {},
     "output_type": "execute_result"
    }
   ],
   "source": [
    "leerdammer.number_of_holes"
   ]
  },
  {
   "cell_type": "markdown",
   "metadata": {},
   "source": [
    "## Initialise parent classes with super\n",
    "Here is the old way by directly calling the parent classes init method."
   ]
  },
  {
   "cell_type": "code",
   "execution_count": 11,
   "metadata": {
    "collapsed": false
   },
   "outputs": [
    {
     "data": {
      "text/plain": [
       "5"
      ]
     },
     "execution_count": 11,
     "metadata": {},
     "output_type": "execute_result"
    }
   ],
   "source": [
    "class MyBaseClass(object):\n",
    "    def __init__(self, value):\n",
    "        self.value = value\n",
    "        \n",
    "class MyChildClass(MyBaseClass):\n",
    "    def __init__(self):\n",
    "        MyBaseClass.__init__(self, 5)\n",
    "\n",
    "child = MyChildClass()\n",
    "child.value"
   ]
  },
  {
   "cell_type": "markdown",
   "metadata": {},
   "source": [
    "Calling the init method directly can lead to unexpected behavior."
   ]
  },
  {
   "cell_type": "code",
   "execution_count": 12,
   "metadata": {
    "collapsed": false
   },
   "outputs": [
    {
     "data": {
      "text/plain": [
       "15"
      ]
     },
     "execution_count": 12,
     "metadata": {},
     "output_type": "execute_result"
    }
   ],
   "source": [
    "class TimesTwo(object):\n",
    "    def __init__(self):\n",
    "        self.value *= 2\n",
    "        \n",
    "class PlusFive(object):\n",
    "    def __init__(self):\n",
    "        self.value += 5\n",
    "        \n",
    "# multiple interitance is something to be avoided in general (see below)\n",
    "class OneWay(MyBaseClass, TimesTwo, PlusFive):\n",
    "    def __init__(self, value):\n",
    "        MyBaseClass.__init__(self, value)\n",
    "        TimesTwo.__init__(self)\n",
    "        PlusFive.__init__(self)\n",
    "        \n",
    "oneWay = OneWay(5)\n",
    "oneWay.value # (5 * 2) + 5"
   ]
  },
  {
   "cell_type": "code",
   "execution_count": 16,
   "metadata": {
    "collapsed": false
   },
   "outputs": [
    {
     "data": {
      "text/plain": [
       "15"
      ]
     },
     "execution_count": 16,
     "metadata": {},
     "output_type": "execute_result"
    }
   ],
   "source": [
    "class AnotherWay(MyBaseClass, PlusFive, TimesTwo): # order changed here\n",
    "    def __init__(self, value):\n",
    "        MyBaseClass.__init__(self, value)\n",
    "        TimesTwo.__init__(self)\n",
    "        PlusFive.__init__(self)\n",
    "        \n",
    "anotherWay = AnotherWay(5)\n",
    "anotherWay.value # still 15"
   ]
  },
  {
   "cell_type": "markdown",
   "metadata": {},
   "source": [
    "Diamond inheritance causes the common superclasses's __init__ method to run multiple times."
   ]
  },
  {
   "cell_type": "code",
   "execution_count": 18,
   "metadata": {
    "collapsed": false
   },
   "outputs": [
    {
     "data": {
      "text/plain": [
       "7"
      ]
     },
     "execution_count": 18,
     "metadata": {},
     "output_type": "execute_result"
    }
   ],
   "source": [
    "class TimesFive(MyBaseClass):\n",
    "    def __init__(self, value):\n",
    "        MyBaseClass.__init__(self, value)\n",
    "        self.value *= 5\n",
    "        \n",
    "class PlusTwo(MyBaseClass):\n",
    "    def __init__(self, value):\n",
    "        MyBaseClass.__init__(self, value)\n",
    "        self.value += 2\n",
    "        \n",
    "class ThisWay(TimesFive, PlusTwo):\n",
    "    def __init__(self, value):\n",
    "        TimesFive.__init__(self, value)\n",
    "        PlusTwo.__init__(self, value)\n",
    "        \n",
    "thisWay = ThisWay(5)\n",
    "thisWay.value # (5 * 5) + 2 = 27, but this comes back as 7 = 5 + 2 (value is reset to 5 when the parent class init called)"
   ]
  },
  {
   "cell_type": "markdown",
   "metadata": {},
   "source": [
    "Python 2.2 addded the super built in function and defined the method resolution order (MRO). The MRO standardizes superclasses depth first, left to right. It also ensures that common superclasses in diamond hierarchies are only run once. "
   ]
  },
  {
   "cell_type": "code",
   "execution_count": 25,
   "metadata": {
    "collapsed": false
   },
   "outputs": [
    {
     "data": {
      "text/plain": [
       "35"
      ]
     },
     "execution_count": 25,
     "metadata": {},
     "output_type": "execute_result"
    }
   ],
   "source": [
    "class TimesFiveCorrect(MyBaseClass):\n",
    "    def __init__(self, value):\n",
    "        super(TimesFiveCorrect, self).__init__(value) # in Python 3 you don't need to include the class name in super\n",
    "        self.value *= 5\n",
    "        \n",
    "class PlusTwoCorrect(MyBaseClass):\n",
    "    def __init__(self, value):\n",
    "        super(PlusTwoCorrect, self).__init__(value)\n",
    "        self.value += 2\n",
    "        \n",
    "class GoodWay(TimesFiveCorrect, PlusTwoCorrect):\n",
    "    def __init__(self, value):\n",
    "        super(GoodWay, self).__init__(value)\n",
    "        \n",
    "goodWay = GoodWay(5)\n",
    "goodWay.value "
   ]
  },
  {
   "cell_type": "code",
   "execution_count": 26,
   "metadata": {
    "collapsed": false
   },
   "outputs": [
    {
     "data": {
      "text/plain": [
       "[__main__.GoodWay,\n",
       " __main__.TimesFiveCorrect,\n",
       " __main__.PlusTwoCorrect,\n",
       " __main__.MyBaseClass,\n",
       " object]"
      ]
     },
     "execution_count": 26,
     "metadata": {},
     "output_type": "execute_result"
    }
   ],
   "source": [
    "GoodWay.mro() # get the method resolution order"
   ]
  },
  {
   "cell_type": "code",
   "execution_count": 27,
   "metadata": {
    "collapsed": false
   },
   "outputs": [
    {
     "data": {
      "text/plain": [
       "35"
      ]
     },
     "execution_count": 27,
     "metadata": {},
     "output_type": "execute_result"
    }
   ],
   "source": [
    "(5 + 2) * 5"
   ]
  },
  {
   "cell_type": "markdown",
   "metadata": {},
   "source": [
    "https://www.python.org/download/releases/2.3/mro/"
   ]
  },
  {
   "cell_type": "markdown",
   "metadata": {},
   "source": [
    "## Use multiple inheritance only for mix-in utility classes\n",
    "Its better to avoid multiple inheritance altogether and writing a min-in instead. A mix-in is a small class that only defines a set of additional methods. "
   ]
  },
  {
   "cell_type": "code",
   "execution_count": 28,
   "metadata": {
    "collapsed": false
   },
   "outputs": [
    {
     "name": "stdout",
     "output_type": "stream",
     "text": [
      "\n",
      "\n",
      "\tHero                          Total spaces moved\n",
      "\ta sorta fast hero                              8\n",
      "\ta curiously slow hero                          2\n",
      "\tthe fastest hero                              20\n"
     ]
    }
   ],
   "source": [
    "# an example from https://andrewbrookins.com/technology/mixins-in-python-and-ruby-compared/\n",
    "\n",
    "class WalkerMixin:\n",
    "    @property\n",
    "    def max_speed(self):\n",
    "        return 1\n",
    "\n",
    "\n",
    "class RunnerMixin:\n",
    "    @property\n",
    "    def max_speed(self):\n",
    "        return 4\n",
    "\n",
    "\n",
    "class FlierMixin:\n",
    "    @property\n",
    "    def max_speed(self):\n",
    "        return 10\n",
    "\n",
    "\n",
    "class SortaFastHero(RunnerMixin):\n",
    "    \"\"\"This hero can run, which is better than walking.\"\"\"\n",
    "    pass\n",
    "\n",
    "\n",
    "class CuriouslySlowHero(WalkerMixin, FlierMixin):\n",
    "    \"\"\"The order of this class's parents made her curiously slow!\"\"\"\n",
    "    pass\n",
    "\n",
    "\n",
    "class FastestHero(FlierMixin, RunnerMixin):\n",
    "    \"\"\"The fastest hero can fly, of course.\"\"\"\n",
    "    pass\n",
    "\n",
    "\n",
    "class Board:\n",
    "    \"\"\"An imaginary game board that doesn't do anything.\"\"\"\n",
    "\n",
    "    def move(self, piece, actions_spent):\n",
    "        \"\"\"Move a piece on the board.\n",
    "\n",
    "        ``piece`` should be movable\n",
    "        ``actions_spent`` is the number of actions taken to move\n",
    "\n",
    "        \"\"\"\n",
    "        # Fictitious piece-moving machinery here\n",
    "        return actions_spent * piece.max_speed\n",
    "\n",
    "\n",
    "def main():\n",
    "    board = Board()\n",
    "    rows = (\n",
    "        ('Hero', 'Total spaces moved'),\n",
    "        ('a sorta fast hero', board.move(SortaFastHero(), 2)),\n",
    "        ('a curiously slow hero', board.move(CuriouslySlowHero(), 2)),\n",
    "        ('the fastest hero', board.move(FastestHero(), 2))\n",
    "    )\n",
    "    print('\\n')\n",
    "    for description, movement in rows:\n",
    "        print(\"\\t{:<22} {:>25}\".format(description, movement))\n",
    "\n",
    "\n",
    "if __name__ == '__main__':\n",
    "    main()"
   ]
  },
  {
   "cell_type": "markdown",
   "metadata": {},
   "source": [
    "## Prefer public attributes over private ones"
   ]
  },
  {
   "cell_type": "code",
   "execution_count": null,
   "metadata": {
    "collapsed": true
   },
   "outputs": [],
   "source": []
  }
 ],
 "metadata": {
  "anaconda-cloud": {},
  "kernelspec": {
   "display_name": "Python 2",
   "language": "python",
   "name": "python2"
  },
  "language_info": {
   "codemirror_mode": {
    "name": "ipython",
    "version": 2
   },
   "file_extension": ".py",
   "mimetype": "text/x-python",
   "name": "python",
   "nbconvert_exporter": "python",
   "pygments_lexer": "ipython2",
   "version": "2.7.12"
  }
 },
 "nbformat": 4,
 "nbformat_minor": 1
}
