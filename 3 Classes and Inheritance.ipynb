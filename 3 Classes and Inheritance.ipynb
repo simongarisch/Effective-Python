{
 "cells": [
  {
   "cell_type": "markdown",
   "metadata": {},
   "source": [
    "## Prefer Helper Classes Over Bookkeeping with Dictionaries and Tuples"
   ]
  },
  {
   "cell_type": "code",
   "execution_count": 1,
   "metadata": {
    "collapsed": false
   },
   "outputs": [
    {
     "name": "stdout",
     "output_type": "stream",
     "text": [
      "90\n"
     ]
    }
   ],
   "source": [
    "class SimpleGradebook(object):\n",
    "    def __init__(self):\n",
    "        self._grades = {}\n",
    "    \n",
    "    def add_student(self, name):\n",
    "        self._grades[name] = []\n",
    "\n",
    "    def report_grade(self, name, score):\n",
    "        self._grades[name].append(score)\n",
    "\n",
    "    def average_grade(self, name):\n",
    "        grades = self._grades[name]\n",
    "        return sum(grades) / len(grades)\n",
    "\n",
    "book = SimpleGradebook()\n",
    "book.add_student('Isaac Newton')\n",
    "book.report_grade('Isaac Newton', 90)\n",
    "print(book.average_grade('Isaac Newton'))"
   ]
  },
  {
   "cell_type": "code",
   "execution_count": 4,
   "metadata": {
    "collapsed": false
   },
   "outputs": [
    {
     "data": {
      "text/plain": [
       "Grade(score=10, weight=0.25)"
      ]
     },
     "execution_count": 4,
     "metadata": {},
     "output_type": "execute_result"
    }
   ],
   "source": [
    "# refactoring as classes\n",
    "import collections\n",
    "Grade = collections.namedtuple('Grade', ('score', 'weight'))\n",
    "\n",
    "# as an example\n",
    "grade = Grade(10, 0.25)\n",
    "grade"
   ]
  },
  {
   "cell_type": "code",
   "execution_count": 7,
   "metadata": {
    "collapsed": false
   },
   "outputs": [
    {
     "data": {
      "text/plain": [
       "9.0"
      ]
     },
     "execution_count": 7,
     "metadata": {},
     "output_type": "execute_result"
    }
   ],
   "source": [
    "class Subject(object):\n",
    "    def __init__(self):\n",
    "        self._grades = []\n",
    "        \n",
    "    def report_grade(self, score, weight):\n",
    "        self._grades.append(Grade(score, weight))\n",
    "\n",
    "    def average_grade(self):\n",
    "        total, total_weight = 0, 0\n",
    "        for grade in self._grades:\n",
    "            total += grade.score * grade.weight\n",
    "            total_weight += grade.weight\n",
    "        return total / total_weight\n",
    "\n",
    "subject = Subject()\n",
    "subject.report_grade(10, 0.5)\n",
    "subject.report_grade(8, 0.5)\n",
    "subject.average_grade()"
   ]
  },
  {
   "cell_type": "code",
   "execution_count": 9,
   "metadata": {
    "collapsed": true
   },
   "outputs": [],
   "source": [
    "class Student(object):\n",
    "    def __init__(self):\n",
    "        self._subjects = {}\n",
    "        \n",
    "    def subject(self, name):\n",
    "        if name not in self._subjects:\n",
    "            self._subjects[name] = Subject()\n",
    "        return self._subjects[name]\n",
    "    \n",
    "    def average_grade(self):\n",
    "        total, count = 0, 0\n",
    "        for subject in self._subjects.values():\n",
    "            total += subject.average_grade()\n",
    "            count += 1\n",
    "        return total / count\n",
    "    "
   ]
  },
  {
   "cell_type": "code",
   "execution_count": 10,
   "metadata": {
    "collapsed": true
   },
   "outputs": [],
   "source": [
    "class Gradebook(object):\n",
    "    pass\n",
    "    def __init__(self):\n",
    "        self._students = {}\n",
    "\n",
    "    def student(self, name):\n",
    "        if name not in self._students:\n",
    "            self._students[name] = Student()\n",
    "        return self._students[name]\n",
    "    "
   ]
  },
  {
   "cell_type": "code",
   "execution_count": 13,
   "metadata": {
    "collapsed": false
   },
   "outputs": [
    {
     "name": "stdout",
     "output_type": "stream",
     "text": [
      "90.0\n"
     ]
    }
   ],
   "source": [
    "book = Gradebook()\n",
    "albert = book.student('Albert Einstein')\n",
    "math = albert.subject('Math')\n",
    "math.report_grade(80, 0.50)\n",
    "math.report_grade(100, 0.50)\n",
    "\n",
    "print(albert.average_grade())"
   ]
  },
  {
   "cell_type": "markdown",
   "metadata": {},
   "source": [
    "## Accept functions for simple interfaces instead of classes"
   ]
  },
  {
   "cell_type": "code",
   "execution_count": null,
   "metadata": {
    "collapsed": true
   },
   "outputs": [],
   "source": []
  }
 ],
 "metadata": {
  "anaconda-cloud": {},
  "kernelspec": {
   "display_name": "Python [default]",
   "language": "python",
   "name": "python2"
  },
  "language_info": {
   "codemirror_mode": {
    "name": "ipython",
    "version": 2
   },
   "file_extension": ".py",
   "mimetype": "text/x-python",
   "name": "python",
   "nbconvert_exporter": "python",
   "pygments_lexer": "ipython2",
   "version": "2.7.12"
  }
 },
 "nbformat": 4,
 "nbformat_minor": 1
}
