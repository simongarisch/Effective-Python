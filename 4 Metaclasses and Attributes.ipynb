{
 "cells": [
  {
   "cell_type": "markdown",
   "metadata": {},
   "source": [
    "## Use plain attributes instead of get and set methods\n",
    "Programmers coming from other languages naturally try to implement getter and setter methods."
   ]
  },
  {
   "cell_type": "code",
   "execution_count": 1,
   "metadata": {
    "collapsed": false
   },
   "outputs": [
    {
     "data": {
      "text/plain": [
       "1000"
      ]
     },
     "execution_count": 1,
     "metadata": {},
     "output_type": "execute_result"
    }
   ],
   "source": [
    "class OldResister(object):\n",
    "    def __init__(self, ohms):\n",
    "        self._ohms = ohms\n",
    "        \n",
    "    def get_ohms(self):\n",
    "        return self._ohms\n",
    "    \n",
    "    def set_ohms(self, ohms):\n",
    "        self._ohms = ohms\n",
    "        \n",
    "resister = OldResister(1000)\n",
    "resister.get_ohms()"
   ]
  },
  {
   "cell_type": "code",
   "execution_count": 2,
   "metadata": {
    "collapsed": false
   },
   "outputs": [
    {
     "data": {
      "text/plain": [
       "1500"
      ]
     },
     "execution_count": 2,
     "metadata": {},
     "output_type": "execute_result"
    }
   ],
   "source": [
    "resister.set_ohms(1500)\n",
    "resister.get_ohms()"
   ]
  },
  {
   "cell_type": "markdown",
   "metadata": {},
   "source": [
    "You should always start implementations with simple public attributes"
   ]
  },
  {
   "cell_type": "code",
   "execution_count": 3,
   "metadata": {
    "collapsed": false
   },
   "outputs": [
    {
     "data": {
      "text/plain": [
       "50000.0"
      ]
     },
     "execution_count": 3,
     "metadata": {},
     "output_type": "execute_result"
    }
   ],
   "source": [
    "class Resister(object):\n",
    "    def __init__(self, ohms):\n",
    "        self.ohms = ohms\n",
    "        self.voltage = 0\n",
    "        self.current = 0\n",
    "        \n",
    "r1 = Resister(50e3)\n",
    "r1.ohms"
   ]
  },
  {
   "cell_type": "markdown",
   "metadata": {},
   "source": [
    "Later, if you decide that you need special behavior when an attribute is set, you can migrate to the @property decorator:"
   ]
  },
  {
   "cell_type": "code",
   "execution_count": 4,
   "metadata": {
    "collapsed": false
   },
   "outputs": [
    {
     "name": "stdout",
     "output_type": "stream",
     "text": [
      "Voltage = 0, Current = 0.00\n"
     ]
    }
   ],
   "source": [
    "class VoltageResistance(Resister):\n",
    "    def __init__(self, ohms):\n",
    "        super(VoltageResistance, self).__init__(ohms)\n",
    "        self.voltage = 0\n",
    "        \n",
    "    @property\n",
    "    def voltage(self):\n",
    "        return self._voltage\n",
    "    \n",
    "    @voltage.setter\n",
    "    def voltage(self, voltage):\n",
    "        self._voltage = voltage\n",
    "        self.current = self._voltage / self.ohms\n",
    "        \n",
    "    def __str__(self):\n",
    "        return \"Voltage = %d, Current = %0.2f\" % (self.voltage, self.current)\n",
    "        \n",
    "r2 = VoltageResistance(1e3)\n",
    "print(r2)"
   ]
  },
  {
   "cell_type": "code",
   "execution_count": 5,
   "metadata": {
    "collapsed": false
   },
   "outputs": [
    {
     "name": "stdout",
     "output_type": "stream",
     "text": [
      "Voltage = 10, Current = 0.01\n"
     ]
    }
   ],
   "source": [
    "r2.voltage = 10\n",
    "print(r2)"
   ]
  },
  {
   "cell_type": "markdown",
   "metadata": {},
   "source": [
    "Specifying a setter also lets you perform type checking and validation on values passed to your class."
   ]
  },
  {
   "cell_type": "markdown",
   "metadata": {},
   "source": [
    "## Consider @property instead of refactoring attributes\n",
    "One advanced but common use of @property is transitioning what was once a simple numerical attribute into an on the fly calculation."
   ]
  },
  {
   "cell_type": "code",
   "execution_count": 6,
   "metadata": {
    "collapsed": false
   },
   "outputs": [
    {
     "data": {
      "text/plain": [
       "5"
      ]
     },
     "execution_count": 6,
     "metadata": {},
     "output_type": "execute_result"
    }
   ],
   "source": [
    "class Test(object):\n",
    "\n",
    "    def __init__(self, a, b):\n",
    "        self.a = a\n",
    "        self.b = b\n",
    "\n",
    "    @property\n",
    "    def c(self):\n",
    "        return self.a + self.b\n",
    "    \n",
    "test = Test(2, 3)\n",
    "test.c"
   ]
  },
  {
   "cell_type": "markdown",
   "metadata": {},
   "source": [
    "## Use descriptors for reuseable @property methods\n",
    "The descriptor protocol defines how attribute access is interpreted by the language. Descriptors are objects with any of __get__, __set__, __delete__."
   ]
  },
  {
   "cell_type": "code",
   "execution_count": 7,
   "metadata": {
    "collapsed": false
   },
   "outputs": [],
   "source": [
    "# from the docs at https://docs.python.org/2/howto/descriptor.html\n",
    "class RevealAccess(object):\n",
    "    \"\"\"A data descriptor that sets and returns values\n",
    "       normally and prints a message logging their access.\n",
    "    \"\"\"\n",
    "\n",
    "    def __init__(self, initval=None, name='var'):\n",
    "        self.val = initval\n",
    "        self.name = name\n",
    "\n",
    "    def __get__(self, obj, objtype):\n",
    "        print 'Retrieving', self.name\n",
    "        return self.val\n",
    "\n",
    "    def __set__(self, obj, val):\n",
    "        print 'Updating', self.name\n",
    "        self.val = val\n",
    "        \n",
    "class MyClass(object):\n",
    "    x = RevealAccess(10, 'var \"x\"')\n",
    "    y = 5\n",
    "    "
   ]
  },
  {
   "cell_type": "code",
   "execution_count": 8,
   "metadata": {
    "collapsed": false
   },
   "outputs": [
    {
     "name": "stdout",
     "output_type": "stream",
     "text": [
      "Retrieving var \"x\"\n"
     ]
    },
    {
     "data": {
      "text/plain": [
       "10"
      ]
     },
     "execution_count": 8,
     "metadata": {},
     "output_type": "execute_result"
    }
   ],
   "source": [
    "m = MyClass()\n",
    "m.x"
   ]
  },
  {
   "cell_type": "code",
   "execution_count": 9,
   "metadata": {
    "collapsed": false
   },
   "outputs": [
    {
     "name": "stdout",
     "output_type": "stream",
     "text": [
      "Updating var \"x\"\n"
     ]
    }
   ],
   "source": [
    "m.x = 20"
   ]
  },
  {
   "cell_type": "code",
   "execution_count": 10,
   "metadata": {
    "collapsed": false
   },
   "outputs": [
    {
     "name": "stdout",
     "output_type": "stream",
     "text": [
      "Retrieving var \"x\"\n"
     ]
    },
    {
     "data": {
      "text/plain": [
       "20"
      ]
     },
     "execution_count": 10,
     "metadata": {},
     "output_type": "execute_result"
    }
   ],
   "source": [
    "m.x"
   ]
  },
  {
   "cell_type": "markdown",
   "metadata": {},
   "source": [
    "Going through a quick example of when objects are destroyed."
   ]
  },
  {
   "cell_type": "code",
   "execution_count": 11,
   "metadata": {
    "collapsed": true
   },
   "outputs": [],
   "source": [
    "class Foo(object):\n",
    "    def __init__(self):\n",
    "        self.obj = None\n",
    "        print 'created'\n",
    "\n",
    "    def __del__(self):\n",
    "        print 'destroyed'\n",
    "\n",
    "    def show(self):\n",
    "        print self.obj\n",
    "\n",
    "    def store(self, obj):\n",
    "        self.obj = obj"
   ]
  },
  {
   "cell_type": "code",
   "execution_count": 12,
   "metadata": {
    "collapsed": false
   },
   "outputs": [
    {
     "name": "stdout",
     "output_type": "stream",
     "text": [
      "created\n"
     ]
    }
   ],
   "source": [
    "a = Foo()"
   ]
  },
  {
   "cell_type": "code",
   "execution_count": 13,
   "metadata": {
    "collapsed": true
   },
   "outputs": [],
   "source": [
    "b = a"
   ]
  },
  {
   "cell_type": "code",
   "execution_count": 14,
   "metadata": {
    "collapsed": true
   },
   "outputs": [],
   "source": [
    "del a"
   ]
  },
  {
   "cell_type": "code",
   "execution_count": 15,
   "metadata": {
    "collapsed": false
   },
   "outputs": [
    {
     "name": "stdout",
     "output_type": "stream",
     "text": [
      "destroyed\n"
     ]
    }
   ],
   "source": [
    "del b"
   ]
  },
  {
   "cell_type": "markdown",
   "metadata": {},
   "source": [
    "There were two references to the foo object, so the foo object is not destroyed / garbage collected until both a and b are deleted. Weak references, on the other hand, have no effect on the reference count for an object."
   ]
  },
  {
   "cell_type": "code",
   "execution_count": 16,
   "metadata": {
    "collapsed": false
   },
   "outputs": [
    {
     "name": "stdout",
     "output_type": "stream",
     "text": [
      "created\n"
     ]
    }
   ],
   "source": [
    "import weakref\n",
    "a = Foo()"
   ]
  },
  {
   "cell_type": "code",
   "execution_count": 17,
   "metadata": {
    "collapsed": true
   },
   "outputs": [],
   "source": [
    "b = weakref.ref(a)"
   ]
  },
  {
   "cell_type": "code",
   "execution_count": 18,
   "metadata": {
    "collapsed": false
   },
   "outputs": [
    {
     "data": {
      "text/plain": [
       "<weakref at 00000000066E2C28; to 'Foo' at 00000000066DF208>"
      ]
     },
     "execution_count": 18,
     "metadata": {},
     "output_type": "execute_result"
    }
   ],
   "source": [
    "b"
   ]
  },
  {
   "cell_type": "code",
   "execution_count": 19,
   "metadata": {
    "collapsed": false
   },
   "outputs": [
    {
     "name": "stdout",
     "output_type": "stream",
     "text": [
      "<__main__.Foo object at 0x00000000066DF208>\n"
     ]
    }
   ],
   "source": [
    "print(b()) # call the weak reference and () to get a strong reference to the object"
   ]
  },
  {
   "cell_type": "code",
   "execution_count": 20,
   "metadata": {
    "collapsed": false
   },
   "outputs": [
    {
     "name": "stdout",
     "output_type": "stream",
     "text": [
      "destroyed\n"
     ]
    }
   ],
   "source": [
    "del a # if we delete the one and only strong reference to our object it is immediately destroyed."
   ]
  },
  {
   "cell_type": "code",
   "execution_count": 21,
   "metadata": {
    "collapsed": false
   },
   "outputs": [
    {
     "data": {
      "text/plain": [
       "<weakref at 00000000066E2C28; dead>"
      ]
     },
     "execution_count": 21,
     "metadata": {},
     "output_type": "execute_result"
    }
   ],
   "source": [
    "b"
   ]
  },
  {
   "cell_type": "code",
   "execution_count": 22,
   "metadata": {
    "collapsed": false
   },
   "outputs": [
    {
     "name": "stdout",
     "output_type": "stream",
     "text": [
      "None\n"
     ]
    }
   ],
   "source": [
    "print(b())"
   ]
  },
  {
   "cell_type": "markdown",
   "metadata": {},
   "source": [
    "A quick tour of WeakKeyDictionary and WeakValueDictionary"
   ]
  },
  {
   "cell_type": "code",
   "execution_count": 23,
   "metadata": {
    "collapsed": false
   },
   "outputs": [
    {
     "name": "stdout",
     "output_type": "stream",
     "text": [
      "{'f': <__main__.Foo object at 0x00000000066DF5F8>}\n",
      "{'f': <__main__.Foo object at 0x00000000066DF5F8>}\n"
     ]
    }
   ],
   "source": [
    "class Foo(object):\n",
    "    pass\n",
    "\n",
    "f = Foo()\n",
    "d = {} \n",
    "d[\"f\"] = f \n",
    "\n",
    "print dict(d)\n",
    "del f \n",
    "print dict(d) # strong reference to f: instance of foo remains in the dict after f is deleted"
   ]
  },
  {
   "cell_type": "code",
   "execution_count": 24,
   "metadata": {
    "collapsed": false
   },
   "outputs": [
    {
     "name": "stdout",
     "output_type": "stream",
     "text": [
      "{'f': <__main__.Foo object at 0x00000000066DF748>}\n",
      "{}\n"
     ]
    }
   ],
   "source": [
    "from weakref import WeakValueDictionary\n",
    "\n",
    "f = Foo()\n",
    "d = WeakValueDictionary()\n",
    "d[\"f\"] = f \n",
    "\n",
    "print dict(d)\n",
    "del f \n",
    "print dict(d) # weak reference to f: instance of foo is deleted from the dict after f is deleted"
   ]
  },
  {
   "cell_type": "code",
   "execution_count": 25,
   "metadata": {
    "collapsed": false
   },
   "outputs": [
    {
     "name": "stdout",
     "output_type": "stream",
     "text": [
      "{<__main__.Foo object at 0x00000000066DF048>: 7}\n",
      "{}\n"
     ]
    }
   ],
   "source": [
    "from weakref import WeakKeyDictionary\n",
    "# The WeakKeyDictionary works similarly but uses weak references for the keys instead of the values in the dictionary.\n",
    "\n",
    "f = Foo()\n",
    "d = WeakKeyDictionary()\n",
    "d[f] = 7 \n",
    "\n",
    "print dict(d)\n",
    "del f \n",
    "print dict(d)"
   ]
  },
  {
   "cell_type": "markdown",
   "metadata": {},
   "source": [
    "When our underlyting object is deleted it'll automatically get discarded from the WeakKeyDictionary. This assists in ensuring that there is not a memory leak where the dict gets larger and larger without garbage collection when objects are no longer needed."
   ]
  },
  {
   "cell_type": "code",
   "execution_count": 26,
   "metadata": {
    "collapsed": false
   },
   "outputs": [
    {
     "name": "stdout",
     "output_type": "stream",
     "text": [
      "fname\n",
      "fname\n"
     ]
    }
   ],
   "source": [
    "f = Foo()\n",
    "g = Foo()\n",
    "d = {f: \"fname\", g: \"gname\"}\n",
    "# The method get() returns a value for the given key. If key is not available then returns default value None.\n",
    "print(d.get(f, 0))\n",
    "print(d[f])"
   ]
  },
  {
   "cell_type": "markdown",
   "metadata": {
    "collapsed": true
   },
   "source": [
    "Returning to the main book example. Reuse the behavior and validation of @property methods by defining your own\n",
    "descriptor classes:"
   ]
  },
  {
   "cell_type": "code",
   "execution_count": 27,
   "metadata": {
    "collapsed": false
   },
   "outputs": [],
   "source": [
    "import weakref\n",
    "\n",
    "class Grade(object):\n",
    "    '''\n",
    "      The instance is kept in the key of the dict\n",
    "      The value (being grade in this case) is kept in the value portion of the dict\n",
    "      Validation can be placed in the __set__ method\n",
    "      If the underlying object is deleted then the key value pair for this instance\n",
    "      is discarded from the WeakKeyDict (which prevents memory leaks)\n",
    "    '''\n",
    "    def __init__(self):\n",
    "        self._values = weakref.WeakKeyDictionary()\n",
    "\n",
    "    def __get__(self, instance, instance_type):\n",
    "        if instance is None: return self\n",
    "        return self._values.get(instance, 0)\n",
    "    \n",
    "    def __set__(self, instance, value):\n",
    "        if not (0 <= value <= 100):\n",
    "            raise ValueError('Grade must be between 0 and 100')\n",
    "        self._values[instance] = value\n"
   ]
  },
  {
   "cell_type": "code",
   "execution_count": 28,
   "metadata": {
    "collapsed": false
   },
   "outputs": [
    {
     "name": "stdout",
     "output_type": "stream",
     "text": [
      "('First ', 82, 'is right')\n",
      "('Second', 75, 'is right')\n"
     ]
    }
   ],
   "source": [
    "class Exam(object):\n",
    "    math_grade = Grade()\n",
    "    writing_grade = Grade()\n",
    "    science_grade = Grade()\n",
    "    \n",
    "first_exam = Exam()\n",
    "first_exam.writing_grade = 82\n",
    "\n",
    "second_exam = Exam()\n",
    "second_exam.writing_grade = 75\n",
    "\n",
    "print('First ', first_exam.writing_grade, 'is right')\n",
    "print('Second', second_exam.writing_grade, 'is right')\n"
   ]
  },
  {
   "cell_type": "markdown",
   "metadata": {},
   "source": [
    "## Use __getattr__, __getattribute__, and __setattr__ for Lazy Attributes\n",
    "If your class defines __getattr__, that method is called every time an attribute can’t be found in an object’s instance dictionary."
   ]
  },
  {
   "cell_type": "code",
   "execution_count": 29,
   "metadata": {
    "collapsed": false
   },
   "outputs": [
    {
     "name": "stdout",
     "output_type": "stream",
     "text": [
      "('Before:', {'exists': 5})\n",
      "('foo: ', 'Value for foo')\n",
      "('After: ', {'foo': 'Value for foo', 'exists': 5})\n"
     ]
    }
   ],
   "source": [
    "class LazyDB(object):\n",
    "    def __init__(self):\n",
    "        self.exists = 5\n",
    "        \n",
    "    def __getattr__(self, name):\n",
    "        value = 'Value for %s' % name\n",
    "        setattr(self, name, value)\n",
    "        return value\n",
    "    \n",
    "data = LazyDB()\n",
    "print('Before:', data.__dict__)\n",
    "print('foo: ', data.foo)\n",
    "print('After: ', data.__dict__)"
   ]
  },
  {
   "cell_type": "markdown",
   "metadata": {},
   "source": [
    "Understand that __getattr__ only gets called once when accessing a missing attribute, whereas __getattribute__ gets called every time an attribute is accessed."
   ]
  },
  {
   "cell_type": "code",
   "execution_count": 39,
   "metadata": {
    "collapsed": false
   },
   "outputs": [
    {
     "name": "stdout",
     "output_type": "stream",
     "text": [
      "Called __getattribute__(exists)\n",
      "5\n",
      "Called __getattribute__(__dict__)\n",
      "{'exists': 5}\n"
     ]
    }
   ],
   "source": [
    "class AnotherLazyDB(object):\n",
    "    def __init__(self):\n",
    "        self.exists = 5\n",
    "    \n",
    "    def __getattribute__(self, name):\n",
    "        print('Called __getattribute__(%s)' % name)\n",
    "        try:\n",
    "            return super(AnotherLazyDB, self).__getattribute__(name) # look in the base class\n",
    "        except AttributeError:\n",
    "            value = 'Value for %s' % name\n",
    "        setattr(self, name, value)\n",
    "        return value\n",
    "    \n",
    "data = AnotherLazyDB()\n",
    "print(data.exists)\n",
    "print(data.__dict__)"
   ]
  },
  {
   "cell_type": "code",
   "execution_count": 40,
   "metadata": {
    "collapsed": false
   },
   "outputs": [
    {
     "name": "stdout",
     "output_type": "stream",
     "text": [
      "Called __getattribute__(one)\n",
      "Value for one\n",
      "Called __getattribute__(__dict__)\n",
      "{'exists': 5, 'one': 'Value for one'}\n"
     ]
    }
   ],
   "source": [
    "print(data.one)\n",
    "print(data.__dict__)"
   ]
  },
  {
   "cell_type": "code",
   "execution_count": 41,
   "metadata": {
    "collapsed": false
   },
   "outputs": [
    {
     "name": "stdout",
     "output_type": "stream",
     "text": [
      "Called __getattribute__(one)\n",
      "Value for one\n",
      "Called __getattribute__(__dict__)\n",
      "{'exists': 5, 'one': 'Value for one'}\n"
     ]
    }
   ],
   "source": [
    "print(data.one)\n",
    "print(data.__dict__)"
   ]
  },
  {
   "cell_type": "markdown",
   "metadata": {},
   "source": [
    "Avoid infinite recursion in __getattribute__ and __setattr__ by using methods from super() (i.e., the object class) to access instance attributes directly. Why do lazy evaluation? One example of this is instance attributes that take long to compute. With lazy evaluation we calculate only when needed and then store the result for any future reference."
   ]
  },
  {
   "cell_type": "markdown",
   "metadata": {},
   "source": [
    "## Validate Subclasses with Metaclasses\n",
    "One of the simplest applications of metaclasses is verifying that a class was defined correctly. When you’re building a complex class hierarchy, you may want to enforce style, require overriding methods, or have strict relationships between class attributes. Using metaclasses for validation can raise errors early."
   ]
  },
  {
   "cell_type": "markdown",
   "metadata": {},
   "source": [
    "A metaclass is defined by inheriting from type. In the default case, a metaclass receives the contents of associated class\n",
    "statements in its __new__ method."
   ]
  },
  {
   "cell_type": "code",
   "execution_count": 50,
   "metadata": {
    "collapsed": false
   },
   "outputs": [
    {
     "name": "stdout",
     "output_type": "stream",
     "text": [
      "(<class '__main__.Meta'>, 'MyClass', (<type 'object'>,), {'__module__': '__main__', 'stuff': 123, 'foo': <function foo at 0x00000000067DD048>, '__doc__': ' some docs for class MyClass ... '})\n"
     ]
    },
    {
     "data": {
      "text/plain": [
       "<__main__.MyClass at 0x634d160>"
      ]
     },
     "execution_count": 50,
     "metadata": {},
     "output_type": "execute_result"
    }
   ],
   "source": [
    "import six # six provides simple utilities for wrapping over differences between Python 2 and Python 3\n",
    "\n",
    "class Meta(type):\n",
    "    def __new__(meta, name, bases, class_dict):\n",
    "        print((meta, name, bases, class_dict))\n",
    "        return type.__new__(meta, name, bases, class_dict)\n",
    "\n",
    "@six.add_metaclass(Meta)\n",
    "class MyClass(object):\n",
    "    ''' some docs for class MyClass ... '''\n",
    "    #__metaclass__ = Meta # works for Python 2, but use the six library for compatability across 2 and 3\n",
    "    stuff = 123\n",
    "    def foo(self):\n",
    "        pass\n",
    "\n",
    "MyClass()"
   ]
  },
  {
   "cell_type": "markdown",
   "metadata": {},
   "source": [
    "The metaclass has access to the name of the class, the parent classes it inherits from, and all of the class attributes that were defined in the class’s body."
   ]
  },
  {
   "cell_type": "code",
   "execution_count": 56,
   "metadata": {
    "collapsed": false
   },
   "outputs": [
    {
     "data": {
      "text/plain": [
       "<__main__.Triangle at 0x635ddd8>"
      ]
     },
     "execution_count": 56,
     "metadata": {},
     "output_type": "execute_result"
    }
   ],
   "source": [
    "import six\n",
    "\n",
    "class ValidatePolygon(type):\n",
    "    def __new__(meta, name, bases, class_dict):\n",
    "        # Don’t validate the abstract Polygon class\n",
    "        if bases != (object,):\n",
    "            if class_dict['sides'] < 3:\n",
    "                raise ValueError('Polygons need 3+ sides')\n",
    "        return type.__new__(meta, name, bases, class_dict)\n",
    "\n",
    "@six.add_metaclass(ValidatePolygon)\n",
    "class Polygon(object):\n",
    "    sides = None # Specified by subclasses\n",
    "\n",
    "    @classmethod\n",
    "    def interior_angles(cls):\n",
    "        return (cls.sides - 2) * 180\n",
    "\n",
    "class Triangle(Polygon):\n",
    "    sides = 3\n",
    "    \n",
    "Triangle() # all is well"
   ]
  },
  {
   "cell_type": "code",
   "execution_count": 59,
   "metadata": {
    "collapsed": false
   },
   "outputs": [
    {
     "ename": "ValueError",
     "evalue": "Polygons need 3+ sides",
     "output_type": "error",
     "traceback": [
      "\u001b[1;31m---------------------------------------------------------------------------\u001b[0m",
      "\u001b[1;31mValueError\u001b[0m                                Traceback (most recent call last)",
      "\u001b[1;32m<ipython-input-59-d7610efa7e9f>\u001b[0m in \u001b[0;36m<module>\u001b[1;34m()\u001b[0m\n\u001b[1;32m----> 1\u001b[1;33m \u001b[1;32mclass\u001b[0m \u001b[0mLine\u001b[0m\u001b[1;33m(\u001b[0m\u001b[0mPolygon\u001b[0m\u001b[1;33m)\u001b[0m\u001b[1;33m:\u001b[0m\u001b[1;33m\u001b[0m\u001b[0m\n\u001b[0m\u001b[0;32m      2\u001b[0m     \u001b[0msides\u001b[0m \u001b[1;33m=\u001b[0m \u001b[1;36m1\u001b[0m\u001b[1;33m\u001b[0m\u001b[0m\n\u001b[0;32m      3\u001b[0m \u001b[1;33m\u001b[0m\u001b[0m\n\u001b[0;32m      4\u001b[0m \u001b[0mLine\u001b[0m\u001b[1;33m(\u001b[0m\u001b[1;33m)\u001b[0m \u001b[1;31m# validation failed!\u001b[0m\u001b[1;33m\u001b[0m\u001b[0m\n",
      "\u001b[1;32m<ipython-input-56-cefe2f18308e>\u001b[0m in \u001b[0;36m__new__\u001b[1;34m(meta, name, bases, class_dict)\u001b[0m\n\u001b[0;32m      6\u001b[0m         \u001b[1;32mif\u001b[0m \u001b[0mbases\u001b[0m \u001b[1;33m!=\u001b[0m \u001b[1;33m(\u001b[0m\u001b[0mobject\u001b[0m\u001b[1;33m,\u001b[0m\u001b[1;33m)\u001b[0m\u001b[1;33m:\u001b[0m\u001b[1;33m\u001b[0m\u001b[0m\n\u001b[0;32m      7\u001b[0m             \u001b[1;32mif\u001b[0m \u001b[0mclass_dict\u001b[0m\u001b[1;33m[\u001b[0m\u001b[1;34m'sides'\u001b[0m\u001b[1;33m]\u001b[0m \u001b[1;33m<\u001b[0m \u001b[1;36m3\u001b[0m\u001b[1;33m:\u001b[0m\u001b[1;33m\u001b[0m\u001b[0m\n\u001b[1;32m----> 8\u001b[1;33m                 \u001b[1;32mraise\u001b[0m \u001b[0mValueError\u001b[0m\u001b[1;33m(\u001b[0m\u001b[1;34m'Polygons need 3+ sides'\u001b[0m\u001b[1;33m)\u001b[0m\u001b[1;33m\u001b[0m\u001b[0m\n\u001b[0m\u001b[0;32m      9\u001b[0m         \u001b[1;32mreturn\u001b[0m \u001b[0mtype\u001b[0m\u001b[1;33m.\u001b[0m\u001b[0m__new__\u001b[0m\u001b[1;33m(\u001b[0m\u001b[0mmeta\u001b[0m\u001b[1;33m,\u001b[0m \u001b[0mname\u001b[0m\u001b[1;33m,\u001b[0m \u001b[0mbases\u001b[0m\u001b[1;33m,\u001b[0m \u001b[0mclass_dict\u001b[0m\u001b[1;33m)\u001b[0m\u001b[1;33m\u001b[0m\u001b[0m\n\u001b[0;32m     10\u001b[0m \u001b[1;33m\u001b[0m\u001b[0m\n",
      "\u001b[1;31mValueError\u001b[0m: Polygons need 3+ sides"
     ]
    }
   ],
   "source": [
    "class Line(Polygon):\n",
    "    sides = 1\n",
    "\n",
    "Line() # validation failed!"
   ]
  },
  {
   "cell_type": "markdown",
   "metadata": {},
   "source": [
    "## Register Class Existence with Metaclasses"
   ]
  },
  {
   "cell_type": "code",
   "execution_count": 1,
   "metadata": {
    "collapsed": false
   },
   "outputs": [],
   "source": [
    "import six\n",
    "\n",
    "registry = {}\n",
    "\n",
    "def register_class(target_class):\n",
    "    registry[target_class.__name__] = target_class\n",
    "\n",
    "class MetaClass(type):\n",
    "    def __new__(cls, clsname, bases, attrs):\n",
    "        newclass = super(MetaClass, cls).__new__(cls, clsname, bases, attrs)\n",
    "        register_class(newclass)  # here is your register function\n",
    "        return newclass\n",
    "\n",
    "@six.add_metaclass(MetaClass)\n",
    "class MyClass(object):\n",
    "    pass\n",
    "\n",
    "x = MyClass()"
   ]
  },
  {
   "cell_type": "code",
   "execution_count": 2,
   "metadata": {
    "collapsed": false
   },
   "outputs": [
    {
     "data": {
      "text/plain": [
       "{'MyClass': __main__.MyClass}"
      ]
     },
     "execution_count": 2,
     "metadata": {},
     "output_type": "execute_result"
    }
   ],
   "source": [
    "registry"
   ]
  },
  {
   "cell_type": "code",
   "execution_count": 3,
   "metadata": {
    "collapsed": false
   },
   "outputs": [],
   "source": [
    "y = MyClass()"
   ]
  },
  {
   "cell_type": "code",
   "execution_count": 4,
   "metadata": {
    "collapsed": false
   },
   "outputs": [
    {
     "data": {
      "text/plain": [
       "{'MyClass': __main__.MyClass}"
      ]
     },
     "execution_count": 4,
     "metadata": {},
     "output_type": "execute_result"
    }
   ],
   "source": [
    "registry"
   ]
  },
  {
   "cell_type": "markdown",
   "metadata": {},
   "source": [
    "## Annotate class attributes with metaclasses"
   ]
  },
  {
   "cell_type": "code",
   "execution_count": 17,
   "metadata": {
    "collapsed": false
   },
   "outputs": [],
   "source": [
    "import six\n",
    "\n",
    "class Meta(type):\n",
    "    def __new__(meta, name, bases, class_dict):\n",
    "        for key, value in class_dict.items(): # look for instances of Field in attributes\n",
    "            if isinstance(value, Field):\n",
    "                value.name = key\n",
    "                value.internal_name = \"_\" + key\n",
    "        cls = type.__new__(meta, name, bases, class_dict)\n",
    "        return cls\n",
    "\n",
    "    \n",
    "class Field(object):\n",
    "    def __init__(self):\n",
    "        # these will be assigned by the metaclass\n",
    "        self.name = None\n",
    "        self.internal_name = None\n",
    "\n",
    "\n",
    "@six.add_metaclass(Meta)\n",
    "class DatabaseRow(object):\n",
    "    pass\n",
    "\n",
    "\n",
    "class BetterCustomer(DatabaseRow):\n",
    "    first_name = Field()\n",
    "    last_name = Field()\n",
    "    prefix = Field()\n",
    "    suffix = Field()\n",
    "    "
   ]
  },
  {
   "cell_type": "code",
   "execution_count": 19,
   "metadata": {
    "collapsed": false
   },
   "outputs": [
    {
     "name": "stdout",
     "output_type": "stream",
     "text": [
      "('Before: ', <__main__.Field object at 0x0000000003FD9C50>, {})\n",
      "('After: ', 'Euler', {'first_name': 'Euler'})\n"
     ]
    }
   ],
   "source": [
    "foo = BetterCustomer()\n",
    "print(\"Before: \", foo.first_name, foo.__dict__)\n",
    "foo.first_name = \"Euler\"\n",
    "print(\"After: \", foo.first_name, foo.__dict__)"
   ]
  },
  {
   "cell_type": "markdown",
   "metadata": {},
   "source": [
    "## A quick overview of metaclasses"
   ]
  },
  {
   "cell_type": "code",
   "execution_count": 23,
   "metadata": {
    "collapsed": false
   },
   "outputs": [
    {
     "name": "stdout",
     "output_type": "stream",
     "text": [
      "(<type 'int'>, <type 'float'>, <type 'str'>)\n",
      "(<type 'type'>, <type 'type'>, <type 'type'>)\n"
     ]
    }
   ],
   "source": [
    "# see https://jakevdp.github.io/blog/2012/12/01/a-primer-on-python-metaclasses/\n",
    "a = 3\n",
    "b = 7.6\n",
    "c = \"someString\"\n",
    "print(type(a), type(b), type(c))\n",
    "print(type(int), type(float), type(str))"
   ]
  },
  {
   "cell_type": "code",
   "execution_count": 24,
   "metadata": {
    "collapsed": false
   },
   "outputs": [
    {
     "data": {
      "text/plain": [
       "type"
      ]
     },
     "execution_count": 24,
     "metadata": {},
     "output_type": "execute_result"
    }
   ],
   "source": [
    "type(object)"
   ]
  },
  {
   "cell_type": "code",
   "execution_count": 27,
   "metadata": {
    "collapsed": false
   },
   "outputs": [
    {
     "data": {
      "text/plain": [
       "type"
      ]
     },
     "execution_count": 27,
     "metadata": {},
     "output_type": "execute_result"
    }
   ],
   "source": [
    "type(type)"
   ]
  },
  {
   "cell_type": "code",
   "execution_count": 26,
   "metadata": {
    "collapsed": false
   },
   "outputs": [
    {
     "name": "stdout",
     "output_type": "stream",
     "text": [
      "(<type 'type'>, <class '__main__.Foo'>)\n"
     ]
    }
   ],
   "source": [
    "class Foo(object):\n",
    "    pass\n",
    "\n",
    "print(type(Foo), type(Foo()))"
   ]
  },
  {
   "cell_type": "markdown",
   "metadata": {},
   "source": [
    "Instances of Foo are of the type class '__main__.Foo'>, whereas Foo is of the type 'type'. In short, classes are objects and they are of the type 'type'."
   ]
  },
  {
   "cell_type": "code",
   "execution_count": 29,
   "metadata": {
    "collapsed": false
   },
   "outputs": [
    {
     "name": "stdout",
     "output_type": "stream",
     "text": [
      "<class '__main__.Foo'>\n"
     ]
    }
   ],
   "source": [
    "# a basic class factory that constructs and returns an instance of type (a class)\n",
    "def class_factory():\n",
    "    class Foo(object):\n",
    "        pass\n",
    "    return Foo\n",
    "\n",
    "F = class_factory()\n",
    "f = F()\n",
    "print(type(f))"
   ]
  },
  {
   "cell_type": "markdown",
   "metadata": {},
   "source": [
    "We can create metaclasses to get custom behavior..."
   ]
  },
  {
   "cell_type": "code",
   "execution_count": 33,
   "metadata": {
    "collapsed": false
   },
   "outputs": [
    {
     "name": "stdout",
     "output_type": "stream",
     "text": [
      "(<class '__main__.InterfaceMeta'>, 'SomeClass', (<type 'object'>,), {'__module__': '__main__', '__doc__': None})\n"
     ]
    }
   ],
   "source": [
    "import six\n",
    "\n",
    "# modifying addributes --------------------------\n",
    "class InterfaceMeta(type):\n",
    "    def __new__(cls, name, parents, dct):\n",
    "        # create a class_id if it's not specified\n",
    "        print(cls, name, parents, dct)\n",
    "        if 'class_id' not in dct:\n",
    "            dct['class_id'] = name.lower()\n",
    "        \n",
    "        # open the specified file for writing\n",
    "        if 'file' in dct:\n",
    "            filename = dct['file']\n",
    "            dct['file'] = open(filename, 'w')\n",
    "        \n",
    "        # we need to call type.__new__ to complete the initialization\n",
    "        return super(InterfaceMeta, cls).__new__(cls, name, parents, dct)\n",
    "    \n",
    "@six.add_metaclass(InterfaceMeta)\n",
    "class SomeClass(object):\n",
    "    pass\n",
    "\n",
    "obj = SomeClass()"
   ]
  },
  {
   "cell_type": "code",
   "execution_count": 36,
   "metadata": {
    "collapsed": false
   },
   "outputs": [
    {
     "data": {
      "text/plain": [
       "'someclass'"
      ]
     },
     "execution_count": 36,
     "metadata": {},
     "output_type": "execute_result"
    }
   ],
   "source": [
    "obj.class_id"
   ]
  },
  {
   "cell_type": "code",
   "execution_count": 42,
   "metadata": {
    "collapsed": true
   },
   "outputs": [],
   "source": [
    "# registering subclasses --------------------------\n",
    "class DBInterfaceMeta(type):\n",
    "    # we use __init__ rather than __new__ here because we want\n",
    "    # to modify attributes of the class *after* they have been\n",
    "    # created\n",
    "    def __init__(cls, name, bases, dct):\n",
    "        #print(cls, name, bases, dct)\n",
    "        if not hasattr(cls, 'registry'):\n",
    "            # this is the base class.  Create an empty registry\n",
    "            cls.registry = {}\n",
    "        else:\n",
    "            # this is a derived class.  Add cls to the registry\n",
    "            interface_id = name.lower()\n",
    "            cls.registry[interface_id] = cls\n",
    "            \n",
    "        super(DBInterfaceMeta, cls).__init__(name, bases, dct)\n",
    "        "
   ]
  },
  {
   "cell_type": "code",
   "execution_count": 43,
   "metadata": {
    "collapsed": false
   },
   "outputs": [
    {
     "name": "stdout",
     "output_type": "stream",
     "text": [
      "{}\n"
     ]
    }
   ],
   "source": [
    "@six.add_metaclass(DBInterfaceMeta)\n",
    "class DBInterface(object):\n",
    "    pass\n",
    "    \n",
    "print(DBInterface.registry)"
   ]
  },
  {
   "cell_type": "code",
   "execution_count": 44,
   "metadata": {
    "collapsed": false
   },
   "outputs": [
    {
     "name": "stdout",
     "output_type": "stream",
     "text": [
      "{'firstinterface': <class '__main__.FirstInterface'>, 'secondinterface': <class '__main__.SecondInterface'>, 'secondinterfacemodified': <class '__main__.SecondInterfaceModified'>}\n"
     ]
    }
   ],
   "source": [
    "# now create some subclasses\n",
    "class FirstInterface(DBInterface):\n",
    "    pass\n",
    "\n",
    "class SecondInterface(DBInterface):\n",
    "    pass\n",
    "\n",
    "class SecondInterfaceModified(SecondInterface):\n",
    "    pass\n",
    "\n",
    "print(DBInterface.registry)"
   ]
  }
 ],
 "metadata": {
  "anaconda-cloud": {},
  "kernelspec": {
   "display_name": "Python 2",
   "language": "python",
   "name": "python2"
  },
  "language_info": {
   "codemirror_mode": {
    "name": "ipython",
    "version": 2
   },
   "file_extension": ".py",
   "mimetype": "text/x-python",
   "name": "python",
   "nbconvert_exporter": "python",
   "pygments_lexer": "ipython2",
   "version": "2.7.12"
  }
 },
 "nbformat": 4,
 "nbformat_minor": 2
}
