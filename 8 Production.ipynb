{
 "cells": [
  {
   "cell_type": "markdown",
   "metadata": {},
   "source": [
    "## Consider module scoped code to configure deployment environments\n",
    "The best way to do this is to override parts of your program at startup time to provide different functionality depending on your deployment environment. However, once your deployment environments get complicated, you should consider moving them out of Python constants (like TESTING) and into dedicated configuration files."
   ]
  },
  {
   "cell_type": "markdown",
   "metadata": {},
   "source": [
    "## Use repr strings for debugging output\n",
    "When you're debugging with print, you should repr the value before printing to ensure that any difference in types is clear."
   ]
  },
  {
   "cell_type": "code",
   "execution_count": 1,
   "metadata": {
    "collapsed": false
   },
   "outputs": [
    {
     "name": "stdout",
     "output_type": "stream",
     "text": [
      "5\n"
     ]
    }
   ],
   "source": [
    "print(repr(5))"
   ]
  },
  {
   "cell_type": "code",
   "execution_count": 2,
   "metadata": {
    "collapsed": false
   },
   "outputs": [
    {
     "name": "stdout",
     "output_type": "stream",
     "text": [
      "'5'\n"
     ]
    }
   ],
   "source": [
    "print(repr('5'))"
   ]
  },
  {
   "cell_type": "markdown",
   "metadata": {},
   "source": [
    "For classes we can define our own repr special method:"
   ]
  },
  {
   "cell_type": "code",
   "execution_count": 3,
   "metadata": {
    "collapsed": false
   },
   "outputs": [
    {
     "name": "stdout",
     "output_type": "stream",
     "text": [
      "BetterClass(1, 2)\n"
     ]
    }
   ],
   "source": [
    "class BetterClass(object):\n",
    "    def __init__(self, x, y):\n",
    "        self.x = x\n",
    "        self.y = y\n",
    "        \n",
    "    def __repr__(self):\n",
    "        return(\"BetterClass(%d, %d)\" % (self.x, self.y))\n",
    "    \n",
    "obj = BetterClass(1, 2)\n",
    "print(obj)"
   ]
  },
  {
   "cell_type": "markdown",
   "metadata": {},
   "source": [
    "Or where you don't have control over the class definition:"
   ]
  },
  {
   "cell_type": "code",
   "execution_count": 4,
   "metadata": {
    "collapsed": false
   },
   "outputs": [
    {
     "data": {
      "text/plain": [
       "{'x': 1, 'y': 2}"
      ]
     },
     "execution_count": 4,
     "metadata": {},
     "output_type": "execute_result"
    }
   ],
   "source": [
    "obj.__dict__"
   ]
  },
  {
   "cell_type": "markdown",
   "metadata": {},
   "source": [
    "## Test everything with unittest\n",
    "You should always test your code, regardless of which language it's written in. The unittest module is popular, but Python users appear to be using pytest more these days."
   ]
  },
  {
   "cell_type": "code",
   "execution_count": 5,
   "metadata": {
    "collapsed": false
   },
   "outputs": [
    {
     "data": {
      "text/plain": [
       "(5, 6)"
      ]
     },
     "execution_count": 5,
     "metadata": {},
     "output_type": "execute_result"
    }
   ],
   "source": [
    "class SomeClass(object):\n",
    "    def __init__(self, x, y):\n",
    "        self.x = x\n",
    "        self.y = y\n",
    "        \n",
    "    def sumXY(self):\n",
    "        return(self.x + self.y)\n",
    "    \n",
    "    def multiplyXY(self):\n",
    "        return(self.x * self.y)\n",
    "    \n",
    "\n",
    "someObj = SomeClass(2, 3)\n",
    "someObj.sumXY(), someObj.multiplyXY()"
   ]
  },
  {
   "cell_type": "code",
   "execution_count": 10,
   "metadata": {
    "collapsed": false
   },
   "outputs": [
    {
     "name": "stderr",
     "output_type": "stream",
     "text": [
      "..."
     ]
    },
    {
     "name": "stdout",
     "output_type": "stream",
     "text": [
      "setUpClass finished!\n",
      "\n",
      "setUp finished!\n",
      "test_init finished!\n",
      "tearDown finished!\n",
      "\n",
      "setUp finished!\n",
      "test_multiplyXY finished!\n",
      "tearDown finished!\n",
      "\n",
      "setUp finished!\n",
      "test_sumXY finished!\n",
      "tearDown finished!\n",
      "\n",
      "tearDownClass finished!\n",
      "\n"
     ]
    },
    {
     "name": "stderr",
     "output_type": "stream",
     "text": [
      "\n",
      "----------------------------------------------------------------------\n",
      "Ran 3 tests in 0.006s\n",
      "\n",
      "OK\n"
     ]
    }
   ],
   "source": [
    "import unittest\n",
    "\n",
    "class TestSomeClass(unittest.TestCase):\n",
    "        \n",
    "    # setUp and tearDown methods run before and after each test respectively\n",
    "    def setUp(self):\n",
    "        self.someObj = SomeClass(2, 3)\n",
    "        print(\"setUp finished!\")\n",
    "    \n",
    "    def tearDown(self):\n",
    "        del self.someObj\n",
    "        print(\"tearDown finished!\")\n",
    "        print(\"\")\n",
    "        \n",
    "    # the setUpClass and tearDownClass class methods are run when the class is created and destroyed respectively\n",
    "    @classmethod\n",
    "    def setUpClass(cls):\n",
    "        print(\"setUpClass finished!\")\n",
    "        print(\"\")\n",
    "    \n",
    "    @classmethod\n",
    "    def tearDownClass(cls):\n",
    "        print(\"tearDownClass finished!\")\n",
    "        print(\"\")\n",
    "    \n",
    "    def test_init(self):\n",
    "        self.assertEqual(self.someObj.x, 2)\n",
    "        self.assertEqual(self.someObj.y, 3)\n",
    "        print(\"test_init finished!\")\n",
    "    \n",
    "    def test_sumXY(self):\n",
    "        self.assertEqual(self.someObj.sumXY(), 5)\n",
    "        print(\"test_sumXY finished!\")\n",
    "    \n",
    "    def test_multiplyXY(self):\n",
    "        someObj = SomeClass(2, 3)\n",
    "        self.assertEqual(self.someObj.multiplyXY(), 6)\n",
    "        print(\"test_multiplyXY finished!\")\n",
    "    \n",
    "\n",
    "def main():\n",
    "    try:\n",
    "        unittest.main() # this usually works, but it won't in the Jupyter notebook\n",
    "    except:\n",
    "        unittest.main(argv=[\"first-arg-is-ignored\"], exit=False) # run this instead\n",
    "\n",
    "if __name__ == \"__main__\":\n",
    "    main()"
   ]
  },
  {
   "cell_type": "markdown",
   "metadata": {},
   "source": [
    "A few things to note:\n",
    "* We can run tests by inheriting from unittest.TestCase\n",
    "* Testing methods need to start with the name 'test...'\n",
    "* There are setUp and tearDown methods that can run before and after each test method. These assist in the actions of one test not polluting another.\n",
    "* setUpClass and tearDownClass class methods can also be very useful. Creating persistent objects that are time consuming is a good candidate for setUpClass, whereas tearDownClass could do a clean up and delete any files that were created as part of the testing process, for example.\n",
    "* pytest appears to be more popular that unittest at the time of writing.\n",
    "* unittest is often used in conjunction with nose and coverage.\n",
    "* There is no guarantee of the order in which tests will run, but there are ways around this."
   ]
  },
  {
   "cell_type": "code",
   "execution_count": 11,
   "metadata": {
    "collapsed": false
   },
   "outputs": [
    {
     "data": {
      "text/plain": [
       "dict_proxy({'__call__': <function unittest.case.__call__>,\n",
       "            '__dict__': <attribute '__dict__' of 'TestCase' objects>,\n",
       "            '__doc__': \"A class whose instances are single test cases.\\n\\n    By default, the test code itself should be placed in a method named\\n    'runTest'.\\n\\n    If the fixture may be used for many test cases, create as\\n    many test methods as are needed. When instantiating such a TestCase\\n    subclass, specify in the constructor arguments the name of the test method\\n    that the instance is to execute.\\n\\n    Test authors should subclass TestCase for their own tests. Construction\\n    and deconstruction of the test's environment ('fixture') can be\\n    implemented by overriding the 'setUp' and 'tearDown' methods respectively.\\n\\n    If it is necessary to override the __init__ method, the base class\\n    __init__ method must always be called. It is important that subclasses\\n    should not change the signature of their __init__ method, since instances\\n    of the classes are instantiated automatically by parts of the framework\\n    in order to be run.\\n\\n    When subclassing TestCase, you can set these attributes:\\n    * failureException: determines which exception will be raised when\\n        the instance's assertion methods fail; test methods raising this\\n        exception will be deemed to have 'failed' rather than 'errored'.\\n    * longMessage: determines whether long messages (including repr of\\n        objects used in assert methods) will be printed on failure in *addition*\\n        to any explicit message passed.\\n    * maxDiff: sets the maximum length of a diff in failure messages\\n        by assert methods using difflib. It is looked up as an instance\\n        attribute so can be configured by individual tests if required.\\n    \",\n",
       "            '__eq__': <function unittest.case.__eq__>,\n",
       "            '__hash__': <function unittest.case.__hash__>,\n",
       "            '__init__': <function unittest.case.__init__>,\n",
       "            '__module__': 'unittest.case',\n",
       "            '__ne__': <function unittest.case.__ne__>,\n",
       "            '__repr__': <function unittest.case.__repr__>,\n",
       "            '__str__': <function unittest.case.__str__>,\n",
       "            '__weakref__': <attribute '__weakref__' of 'TestCase' objects>,\n",
       "            '_addSkip': <function unittest.case._addSkip>,\n",
       "            '_baseAssertEqual': <function unittest.case._baseAssertEqual>,\n",
       "            '_classSetupFailed': False,\n",
       "            '_deprecate': <function unittest.case._deprecate>,\n",
       "            '_diffThreshold': 65536,\n",
       "            '_formatMessage': <function unittest.case._formatMessage>,\n",
       "            '_getAssertEqualityFunc': <function unittest.case._getAssertEqualityFunc>,\n",
       "            '_truncateMessage': <function unittest.case._truncateMessage>,\n",
       "            'addCleanup': <function unittest.case.addCleanup>,\n",
       "            'addTypeEqualityFunc': <function unittest.case.addTypeEqualityFunc>,\n",
       "            'assertAlmostEqual': <function unittest.case.assertAlmostEqual>,\n",
       "            'assertAlmostEquals': <function unittest.case.assertAlmostEqual>,\n",
       "            'assertDictContainsSubset': <function unittest.case.assertDictContainsSubset>,\n",
       "            'assertDictEqual': <function unittest.case.assertDictEqual>,\n",
       "            'assertEqual': <function unittest.case.assertEqual>,\n",
       "            'assertEquals': <function unittest.case.assertEqual>,\n",
       "            'assertFalse': <function unittest.case.assertFalse>,\n",
       "            'assertGreater': <function unittest.case.assertGreater>,\n",
       "            'assertGreaterEqual': <function unittest.case.assertGreaterEqual>,\n",
       "            'assertIn': <function unittest.case.assertIn>,\n",
       "            'assertIs': <function unittest.case.assertIs>,\n",
       "            'assertIsInstance': <function unittest.case.assertIsInstance>,\n",
       "            'assertIsNone': <function unittest.case.assertIsNone>,\n",
       "            'assertIsNot': <function unittest.case.assertIsNot>,\n",
       "            'assertIsNotNone': <function unittest.case.assertIsNotNone>,\n",
       "            'assertItemsEqual': <function unittest.case.assertItemsEqual>,\n",
       "            'assertLess': <function unittest.case.assertLess>,\n",
       "            'assertLessEqual': <function unittest.case.assertLessEqual>,\n",
       "            'assertListEqual': <function unittest.case.assertListEqual>,\n",
       "            'assertMultiLineEqual': <function unittest.case.assertMultiLineEqual>,\n",
       "            'assertNotAlmostEqual': <function unittest.case.assertNotAlmostEqual>,\n",
       "            'assertNotAlmostEquals': <function unittest.case.assertNotAlmostEqual>,\n",
       "            'assertNotEqual': <function unittest.case.assertNotEqual>,\n",
       "            'assertNotEquals': <function unittest.case.assertNotEqual>,\n",
       "            'assertNotIn': <function unittest.case.assertNotIn>,\n",
       "            'assertNotIsInstance': <function unittest.case.assertNotIsInstance>,\n",
       "            'assertNotRegexpMatches': <function unittest.case.assertNotRegexpMatches>,\n",
       "            'assertRaises': <function unittest.case.assertRaises>,\n",
       "            'assertRaisesRegexp': <function unittest.case.assertRaisesRegexp>,\n",
       "            'assertRegexpMatches': <function unittest.case.assertRegexpMatches>,\n",
       "            'assertSequenceEqual': <function unittest.case.assertSequenceEqual>,\n",
       "            'assertSetEqual': <function unittest.case.assertSetEqual>,\n",
       "            'assertTrue': <function unittest.case.assertTrue>,\n",
       "            'assertTupleEqual': <function unittest.case.assertTupleEqual>,\n",
       "            'assert_': <function unittest.case.assertTrue>,\n",
       "            'countTestCases': <function unittest.case.countTestCases>,\n",
       "            'debug': <function unittest.case.debug>,\n",
       "            'defaultTestResult': <function unittest.case.defaultTestResult>,\n",
       "            'doCleanups': <function unittest.case.doCleanups>,\n",
       "            'fail': <function unittest.case.fail>,\n",
       "            'failIf': <function unittest.case.deprecated_func>,\n",
       "            'failIfAlmostEqual': <function unittest.case.deprecated_func>,\n",
       "            'failIfEqual': <function unittest.case.deprecated_func>,\n",
       "            'failUnless': <function unittest.case.deprecated_func>,\n",
       "            'failUnlessAlmostEqual': <function unittest.case.deprecated_func>,\n",
       "            'failUnlessEqual': <function unittest.case.deprecated_func>,\n",
       "            'failUnlessRaises': <function unittest.case.deprecated_func>,\n",
       "            'failureException': AssertionError,\n",
       "            'id': <function unittest.case.id>,\n",
       "            'longMessage': False,\n",
       "            'maxDiff': 640,\n",
       "            'run': <function unittest.case.run>,\n",
       "            'setUp': <function unittest.case.setUp>,\n",
       "            'setUpClass': <classmethod at 0x3f81bb8>,\n",
       "            'shortDescription': <function unittest.case.shortDescription>,\n",
       "            'skipTest': <function unittest.case.skipTest>,\n",
       "            'tearDown': <function unittest.case.tearDown>,\n",
       "            'tearDownClass': <classmethod at 0x3f81be8>})"
      ]
     },
     "execution_count": 11,
     "metadata": {},
     "output_type": "execute_result"
    }
   ],
   "source": [
    "unittest.TestCase.__dict__"
   ]
  },
  {
   "cell_type": "markdown",
   "metadata": {},
   "source": [
    "## Consider interactive debugging with pdb"
   ]
  },
  {
   "cell_type": "code",
   "execution_count": null,
   "metadata": {
    "collapsed": true
   },
   "outputs": [],
   "source": []
  }
 ],
 "metadata": {
  "kernelspec": {
   "display_name": "Python 2",
   "language": "python",
   "name": "python2"
  },
  "language_info": {
   "codemirror_mode": {
    "name": "ipython",
    "version": 2
   },
   "file_extension": ".py",
   "mimetype": "text/x-python",
   "name": "python",
   "nbconvert_exporter": "python",
   "pygments_lexer": "ipython2",
   "version": "2.7.12"
  }
 },
 "nbformat": 4,
 "nbformat_minor": 2
}
