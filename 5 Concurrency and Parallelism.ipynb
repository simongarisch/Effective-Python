{
 "cells": [
  {
   "cell_type": "markdown",
   "metadata": {},
   "source": [
    "## Use subprocess to manage child processes\n",
    "Child processes started by Python are able to run in parallel, enabling you to use Python to consume all of the CPU cores of your machine."
   ]
  },
  {
   "cell_type": "code",
   "execution_count": 1,
   "metadata": {
    "collapsed": false
   },
   "outputs": [
    {
     "name": "stdout",
     "output_type": "stream",
     "text": [
      "\"Hello from the child!\"\r\n",
      "\n"
     ]
    }
   ],
   "source": [
    "import subprocess\n",
    "\n",
    "proc = subprocess.Popen([\"echo\", \"Hello from the child!\"], stdout=subprocess.PIPE, shell=True)\n",
    "out, err = proc.communicate()\n",
    "print(out.decode(\"utf-8\"))"
   ]
  },
  {
   "cell_type": "markdown",
   "metadata": {
    "collapsed": true
   },
   "source": [
    "Child processes can run independently of their parent process, the Python interpreter. Their status can be polled periodically:"
   ]
  },
  {
   "cell_type": "code",
   "execution_count": 2,
   "metadata": {
    "collapsed": false
   },
   "outputs": [
    {
     "name": "stdout",
     "output_type": "stream",
     "text": [
      "Working...\n",
      "Working...\n",
      "Working...\n",
      "Working...\n",
      "Working...\n",
      "('Exit status', 1)\n"
     ]
    }
   ],
   "source": [
    "import time\n",
    "\n",
    "proc = subprocess.Popen([\"sleep\", \"0.3\"], shell=True)\n",
    "while proc.poll() is None:\n",
    "    print(\"Working...\")\n",
    "    time.sleep(0.05)\n",
    "    \n",
    "print(\"Exit status\", proc.poll())"
   ]
  },
  {
   "cell_type": "markdown",
   "metadata": {},
   "source": [
    "Starting several child processes..."
   ]
  },
  {
   "cell_type": "code",
   "execution_count": 8,
   "metadata": {
    "collapsed": false
   },
   "outputs": [
    {
     "name": "stdout",
     "output_type": "stream",
     "text": [
      "[1, 1, 1, 1, 1, 1, 1, 1, 1, 1]\n",
      "Finished in 0.669 seconds\n"
     ]
    }
   ],
   "source": [
    "# https://docs.python.org/2/library/subprocess.html\n",
    "import subprocess\n",
    "import time\n",
    "\n",
    "def run_sleep(period):\n",
    "    proc = subprocess.Popen([\"sleep\", str(period)], shell=True)\n",
    "    return proc\n",
    "    \n",
    "start = time.time()\n",
    "procs = []\n",
    "\n",
    "# start all of the processes\n",
    "for _ in range(10):\n",
    "    proc = run_sleep(0.1)\n",
    "    procs.append(proc)\n",
    "\n",
    "for proc in procs:\n",
    "    proc.communicate()\n",
    "\n",
    "statusList = [proc.poll() for proc in procs]\n",
    "print(statusList)\n",
    "\n",
    "end = time.time()\n",
    "print(\"Finished in %.3f seconds\" % (end - start))"
   ]
  },
  {
   "cell_type": "code",
   "execution_count": 17,
   "metadata": {
    "collapsed": false
   },
   "outputs": [
    {
     "data": {
      "text/plain": [
       "0"
      ]
     },
     "execution_count": 17,
     "metadata": {},
     "output_type": "execute_result"
    }
   ],
   "source": [
    "# from https://pymotw.com/2/subprocess/\n",
    "import subprocess\n",
    "\n",
    "# Simple command\n",
    "subprocess.call([\"dir\"], shell=True) # running on Windows"
   ]
  },
  {
   "cell_type": "markdown",
   "metadata": {},
   "source": [
    "Setting the shell argument to a true value causes subprocess to spawn an intermediate shell process, and tell it to run the command. The default is to run the command directly. Using an intermediate shell means that variables, glob patterns, and other special shell features in the command string are processed before the command is run."
   ]
  },
  {
   "cell_type": "code",
   "execution_count": 18,
   "metadata": {
    "collapsed": false
   },
   "outputs": [
    {
     "data": {
      "text/plain": [
       "0"
      ]
     },
     "execution_count": 18,
     "metadata": {},
     "output_type": "execute_result"
    }
   ],
   "source": [
    "import subprocess\n",
    "\n",
    "# Command with shell expansion\n",
    "subprocess.call(\"echo $HOME\", shell=True)"
   ]
  },
  {
   "cell_type": "code",
   "execution_count": 19,
   "metadata": {
    "collapsed": false
   },
   "outputs": [
    {
     "name": "stdout",
     "output_type": "stream",
     "text": [
      "Have 805 bytes in output\n",
      " Volume in drive U is New Volume\r\n",
      " Volume Serial Number is AAD0-7DCA\r\n",
      "\r\n",
      " Directory of U:\\git\\Effective-Python\r\n",
      "\r\n",
      "09/05/2018  06:07 PM    <DIR>          .\r\n",
      "09/05/2018  06:07 PM    <DIR>          ..\r\n",
      "23/04/2018  05:29 PM             1,258 .gitignore\r\n",
      "07/05/2018  09:22 AM    <DIR>          .ipynb_checkpoints\r\n",
      "23/04/2018  05:16 PM            19,867 1 Pythonic Thinking.ipynb\r\n",
      "02/05/2018  07:01 PM            21,706 2 Functions.ipynb\r\n",
      "03/05/2018  06:27 PM            26,085 3 Classes and Inheritance.ipynb\r\n",
      "07/05/2018  09:20 AM            35,868 4 Metaclasses and Attributes.ipynb\r\n",
      "09/05/2018  06:07 PM             6,225 5 Concurrency and Parallelism.ipynb\r\n",
      "23/04/2018  05:29 PM               241 README.md\r\n",
      "               7 File(s)        115,346 bytes\r\n",
      "               3 Dir(s)  315,015,225,344 bytes free\r\n",
      "\n"
     ]
    }
   ],
   "source": [
    "# capturing output\n",
    "import subprocess\n",
    "\n",
    "output = subprocess.check_output([\"dir\"], shell=True) # running on Windows\n",
    "print 'Have %d bytes in output' % len(output)\n",
    "print output"
   ]
  },
  {
   "cell_type": "code",
   "execution_count": 21,
   "metadata": {
    "collapsed": false
   },
   "outputs": [
    {
     "name": "stdout",
     "output_type": "stream",
     "text": [
      "0\n",
      "\r\n",
      "[r] U:\\git\\Effective-Python>echo Message in a batch file! \r\n",
      "Message in a batch file!\r\n",
      "\n"
     ]
    }
   ],
   "source": [
    "# or running a batch file\n",
    "import subprocess\n",
    "\n",
    "filepath=\"myBatch.bat\"\n",
    "p = subprocess.Popen(filepath, shell=True, stdout = subprocess.PIPE)\n",
    "\n",
    "stdout, stderr = p.communicate()\n",
    "print p.returncode # is 0 if success\n",
    "print stdout"
   ]
  },
  {
   "cell_type": "markdown",
   "metadata": {},
   "source": [
    "## Use Threads for Blocking I/O, Avoid for Parallelism"
   ]
  },
  {
   "cell_type": "code",
   "execution_count": 22,
   "metadata": {
    "collapsed": false
   },
   "outputs": [
    {
     "name": "stdout",
     "output_type": "stream",
     "text": [
      "Took 0.575 seconds\n"
     ]
    }
   ],
   "source": [
    "import time\n",
    "\n",
    "def factorize(number):\n",
    "    for i in range(1, number + 1):\n",
    "        if number % i == 0:\n",
    "            yield i\n",
    "            \n",
    "numbers = [2139079, 1214759, 1516637, 1852285]\n",
    "start = time.time()\n",
    "for number in numbers:\n",
    "    list(factorize(number))\n",
    "end = time.time()\n",
    "print(\"Took %0.3f seconds\" % (end - start))"
   ]
  },
  {
   "cell_type": "markdown",
   "metadata": {},
   "source": [
    "Using threading for the same task"
   ]
  },
  {
   "cell_type": "code",
   "execution_count": 23,
   "metadata": {
    "collapsed": true
   },
   "outputs": [],
   "source": [
    "import threading\n",
    "\n",
    "class FactorizeThread(threading.Thread):\n",
    "    def __init__(self, number):\n",
    "        super(FactorizeThread, self).__init__()\n",
    "        self._number = number\n",
    "        \n",
    "    def run(self):\n",
    "        self.factors = list(factorize(self._number))\n"
   ]
  },
  {
   "cell_type": "code",
   "execution_count": 24,
   "metadata": {
    "collapsed": false
   },
   "outputs": [
    {
     "name": "stdout",
     "output_type": "stream",
     "text": [
      "Took 0.820 seconds\n"
     ]
    }
   ],
   "source": [
    "start = time.time()\n",
    "threads = []\n",
    "for number in numbers:\n",
    "    thread = FactorizeThread(number)\n",
    "    thread.start()\n",
    "    threads.append(thread)\n",
    "    \n",
    "for thread in threads:\n",
    "    thread.join()\n",
    "    \n",
    "end = time.time()\n",
    "print(\"Took %.3f seconds\" % (end - start))"
   ]
  },
  {
   "cell_type": "markdown",
   "metadata": {},
   "source": [
    "This is slower because of Python's GIL. Only one thread makes forward progress at a time."
   ]
  },
  {
   "cell_type": "markdown",
   "metadata": {},
   "source": [
    "## Use Lock to prevent data races in threads\n",
    "Here we have two threads both adding to a counter. If each count to 1000 then we might expect the total to be 2000, but this is not always the case."
   ]
  },
  {
   "cell_type": "code",
   "execution_count": 25,
   "metadata": {
    "collapsed": false
   },
   "outputs": [
    {
     "name": "stdout",
     "output_type": "stream",
     "text": [
      "2000\n",
      "2000\n",
      "2000\n",
      "1592\n",
      "2000\n"
     ]
    }
   ],
   "source": [
    "import threading\n",
    "import time\n",
    "\n",
    "class SomeThread(threading.Thread):\n",
    "    def __init__(self):\n",
    "        super(SomeThread, self).__init__()\n",
    "        self.daemon = True\n",
    "        self.start()\n",
    "        \n",
    "    def run(self):\n",
    "        for i in range(1000):\n",
    "            global count\n",
    "            count = count + 1\n",
    "\n",
    "for i in range(5):\n",
    "    count = 0\n",
    "    threads = [SomeThread(), SomeThread()]\n",
    "    [thread.join() for thread in threads]\n",
    "    print(count)"
   ]
  },
  {
   "cell_type": "markdown",
   "metadata": {},
   "source": [
    "Suppose thread 1 references the current value of count as 1500 and then increments it to 1501. However, before thread 1 gets the chance to change count the second thread also references count as 1500 and increments it to 1501. Thread 1 has not finished applying its increment before thread two operates on count and we end up with a global count variable that is incorrect. <br>\n",
    "<br>\n",
    "This is where locks come in: Locks are the most fundamental synchronization mechanism provided by the threading module. Locks are typically used to synchronize access to a shared resource. For each shared resource, create a Lock object. When you need to access the resource, call acquire to hold the lock (this will wait for the lock to be released, if necessary), and call release to release it. If a thread attempts to hold a lock that’s already held by some other thread, execution of the first thread is halted until the lock is released. The acquire method takes an optional wait flag, which can be used to avoid blocking if the lock is held by someone else:"
   ]
  },
  {
   "cell_type": "code",
   "execution_count": 26,
   "metadata": {
    "collapsed": false
   },
   "outputs": [
    {
     "name": "stdout",
     "output_type": "stream",
     "text": [
      "2000\n",
      "2000\n",
      "2000\n",
      "2000\n",
      "2000\n"
     ]
    }
   ],
   "source": [
    "import threading\n",
    "import time\n",
    "\n",
    "lock = threading.Lock() # create a lock per shared resource\n",
    "\n",
    "class SomeThread(threading.Thread):\n",
    "    def __init__(self):\n",
    "        super(SomeThread, self).__init__()\n",
    "        self.daemon = True\n",
    "        self.start()\n",
    "        \n",
    "    def run(self):\n",
    "        for i in range(1000):\n",
    "            global count\n",
    "            lock.acquire(True) # acquire the lock with wait for release by other threads = True\n",
    "            count = count + 1\n",
    "            lock.release()     # always release the lock so that resources can be accessed by other threads\n",
    "\n",
    "for i in range(5):\n",
    "    count = 0\n",
    "    threads = [SomeThread(), SomeThread()]\n",
    "    [thread.join() for thread in threads]\n",
    "    print(count)"
   ]
  },
  {
   "cell_type": "markdown",
   "metadata": {},
   "source": [
    "When using lock there is the possibility that a thread can block itself from acquiring the lock when calling lock.acquire if it already holds the lock itself:"
   ]
  },
  {
   "cell_type": "code",
   "execution_count": null,
   "metadata": {
    "collapsed": true
   },
   "outputs": [],
   "source": [
    "import threading\n",
    "import time\n",
    "\n",
    "lock = threading.Lock()\n",
    "\n",
    "class SomeThread(threading.Thread):\n",
    "    def __init__(self):\n",
    "        super(SomeThread, self).__init__()\n",
    "        self.daemon = True\n",
    "        self.start()\n",
    "        \n",
    "    def run(self):\n",
    "        for i in range(1000):\n",
    "            global count\n",
    "            lock.acquire(True)\n",
    "            lock.acquire(True)\n",
    "            count = count + 1\n",
    "            lock.release()\n",
    "\n",
    "count = 0\n",
    "thread = SomeThread()\n",
    "thread.join()\n",
    "print(count)"
   ]
  },
  {
   "cell_type": "markdown",
   "metadata": {},
   "source": [
    "Notice that the thread gets stuck. The thread attempts to acquire the lock twice with lock.acquire(True). When calling lock.acquire(True) a second time the thread will wait for the lock to be released not realising that the lock has already been acquired and unreleased by itself. To get around this there are reentrant locks (RLock Objects). With RLocks a thread cannot block itself from acquiring the lock:"
   ]
  },
  {
   "cell_type": "code",
   "execution_count": 1,
   "metadata": {
    "collapsed": false
   },
   "outputs": [
    {
     "name": "stdout",
     "output_type": "stream",
     "text": [
      "1000\n"
     ]
    }
   ],
   "source": [
    "import threading\n",
    "import time\n",
    "\n",
    "lock = threading.RLock()\n",
    "\n",
    "class SomeThread(threading.Thread):\n",
    "    def __init__(self):\n",
    "        super(SomeThread, self).__init__()\n",
    "        self.daemon = True\n",
    "        self.start()\n",
    "        \n",
    "    def run(self):\n",
    "        for i in range(1000):\n",
    "            global count\n",
    "            lock.acquire(True)\n",
    "            lock.acquire(True)\n",
    "            count = count + 1\n",
    "            lock.release()\n",
    "\n",
    "count = 0\n",
    "thread = SomeThread()\n",
    "thread.join()\n",
    "print(count)"
   ]
  },
  {
   "cell_type": "markdown",
   "metadata": {},
   "source": [
    "## Use Queue to coordinate work between threads"
   ]
  },
  {
   "cell_type": "markdown",
   "metadata": {},
   "source": [
    "A quick intro to deque which provides you with a double ended queue which means that you can append and delete items from either side of the list."
   ]
  },
  {
   "cell_type": "code",
   "execution_count": 1,
   "metadata": {
    "collapsed": false
   },
   "outputs": [
    {
     "data": {
      "text/plain": [
       "deque(['1', '2', '3', '4', '5'])"
      ]
     },
     "execution_count": 1,
     "metadata": {},
     "output_type": "execute_result"
    }
   ],
   "source": [
    "from collections import deque\n",
    "\n",
    "d = deque()\n",
    "for i in range(1, 6):\n",
    "    d.append(str(i))\n",
    "d"
   ]
  },
  {
   "cell_type": "code",
   "execution_count": 2,
   "metadata": {
    "collapsed": false
   },
   "outputs": [
    {
     "name": "stdout",
     "output_type": "stream",
     "text": [
      "5\n"
     ]
    },
    {
     "data": {
      "text/plain": [
       "deque(['1', '2', '3', '4'])"
      ]
     },
     "execution_count": 2,
     "metadata": {},
     "output_type": "execute_result"
    }
   ],
   "source": [
    "item = d.pop() # comes off the right\n",
    "print(item)\n",
    "d"
   ]
  },
  {
   "cell_type": "code",
   "execution_count": 3,
   "metadata": {
    "collapsed": false
   },
   "outputs": [
    {
     "name": "stdout",
     "output_type": "stream",
     "text": [
      "1\n"
     ]
    },
    {
     "data": {
      "text/plain": [
       "deque(['2', '3', '4'])"
      ]
     },
     "execution_count": 3,
     "metadata": {},
     "output_type": "execute_result"
    }
   ],
   "source": [
    "item = d.popleft()\n",
    "print(item)\n",
    "d"
   ]
  },
  {
   "cell_type": "code",
   "execution_count": 4,
   "metadata": {
    "collapsed": false
   },
   "outputs": [
    {
     "data": {
      "text/plain": [
       "deque(['2', '3', '4', '7', '8', '9'])"
      ]
     },
     "execution_count": 4,
     "metadata": {},
     "output_type": "execute_result"
    }
   ],
   "source": [
    "d.extend([\"7\", \"8\", \"9\"]) # extends on the right\n",
    "d"
   ]
  },
  {
   "cell_type": "code",
   "execution_count": 5,
   "metadata": {
    "collapsed": false
   },
   "outputs": [
    {
     "data": {
      "text/plain": [
       "deque(['-1', '-2', '-3', '2', '3', '4', '7', '8', '9'])"
      ]
     },
     "execution_count": 5,
     "metadata": {},
     "output_type": "execute_result"
    }
   ],
   "source": [
    "d.extendleft([\"-3\", \"-2\", \"-1\"])\n",
    "d"
   ]
  },
  {
   "cell_type": "markdown",
   "metadata": {},
   "source": [
    "Onto the original example from this book:"
   ]
  },
  {
   "cell_type": "code",
   "execution_count": 4,
   "metadata": {
    "collapsed": false
   },
   "outputs": [
    {
     "data": {
      "text/plain": [
       "deque([])"
      ]
     },
     "execution_count": 4,
     "metadata": {},
     "output_type": "execute_result"
    }
   ],
   "source": [
    "import collections\n",
    "import threading\n",
    "import time\n",
    "\n",
    "class MyQueue(object):\n",
    "    def __init__(self):\n",
    "        self.items = collections.deque()\n",
    "        self.lock = threading.Lock()\n",
    "        \n",
    "    def put(self, item):\n",
    "        with self.lock:\n",
    "            self.items.append(item)     # append item on the right\n",
    "            \n",
    "    def get(self):\n",
    "        with self.lock:\n",
    "            return self.items.popleft() # pop item from the left\n",
    "\n",
    "queue = MyQueue()\n",
    "queue.items"
   ]
  },
  {
   "cell_type": "code",
   "execution_count": 5,
   "metadata": {
    "collapsed": false
   },
   "outputs": [
    {
     "data": {
      "text/plain": [
       "deque(['x'])"
      ]
     },
     "execution_count": 5,
     "metadata": {},
     "output_type": "execute_result"
    }
   ],
   "source": [
    "queue.put(\"x\")\n",
    "queue.items"
   ]
  },
  {
   "cell_type": "code",
   "execution_count": 6,
   "metadata": {
    "collapsed": false
   },
   "outputs": [
    {
     "data": {
      "text/plain": [
       "'x'"
      ]
     },
     "execution_count": 6,
     "metadata": {},
     "output_type": "execute_result"
    }
   ],
   "source": [
    "queue.get()"
   ]
  },
  {
   "cell_type": "code",
   "execution_count": 7,
   "metadata": {
    "collapsed": false
   },
   "outputs": [
    {
     "data": {
      "text/plain": [
       "deque([])"
      ]
     },
     "execution_count": 7,
     "metadata": {},
     "output_type": "execute_result"
    }
   ],
   "source": [
    "queue.items"
   ]
  },
  {
   "cell_type": "code",
   "execution_count": 11,
   "metadata": {
    "collapsed": true
   },
   "outputs": [],
   "source": [
    "class Worker(threading.Thread):\n",
    "    def __init__(self, func, in_queue, out_queue):\n",
    "        super(Worker, self).__init__()\n",
    "        self.func = func\n",
    "        self.in_queue = in_queue\n",
    "        self.out_queue = out_queue\n",
    "        self.polled_count = 0\n",
    "        self.work_done = 0\n",
    "        \n",
    "    def run(self):\n",
    "        while True:\n",
    "            self.polled_count += 1\n",
    "            try:\n",
    "                item = self.in_queue.get()\n",
    "            except IndexError:\n",
    "                time.sleep(0.01) # no work to do\n",
    "            else:\n",
    "                result = self.func(item)\n",
    "                self.out_queue.put(result)\n",
    "                self.work_done += 1"
   ]
  },
  {
   "cell_type": "code",
   "execution_count": 12,
   "metadata": {
    "collapsed": false
   },
   "outputs": [],
   "source": [
    "download_queue = MyQueue()\n",
    "resize_queue = MyQueue()\n",
    "upload_queue = MyQueue()\n",
    "done_queue = MyQueue()\n",
    "\n",
    " # our actions\n",
    "def download(x):\n",
    "    print(\"downloading\", x)\n",
    "    return(x)\n",
    "    \n",
    "def resize(x):\n",
    "    print(\"resizing\", x)\n",
    "    return(x)\n",
    "    \n",
    "def upload(x):\n",
    "    print(\"uploading\", x)\n",
    "    return(x)\n",
    "\n",
    "threads = [\n",
    "    Worker(download, download_queue, resize_queue),\n",
    "    Worker(resize, resize_queue, upload_queue),\n",
    "    Worker(upload, upload_queue, done_queue)\n",
    "]\n",
    "\n",
    "for thread in threads:\n",
    "    thread.start()\n"
   ]
  },
  {
   "cell_type": "code",
   "execution_count": 13,
   "metadata": {
    "collapsed": false
   },
   "outputs": [
    {
     "name": "stdout",
     "output_type": "stream",
     "text": [
      "('downloading', 'x')\n",
      "('resizing', 'x')\n",
      "('uploading', 'x')\n"
     ]
    }
   ],
   "source": [
    "download_queue.put(\"x\")"
   ]
  },
  {
   "cell_type": "code",
   "execution_count": 14,
   "metadata": {
    "collapsed": false
   },
   "outputs": [
    {
     "name": "stdout",
     "output_type": "stream",
     "text": [
      "('downloading', 'y')\n",
      "('resizing', 'y')\n",
      "('uploading', 'y')\n"
     ]
    }
   ],
   "source": [
    "download_queue.put(\"y\")"
   ]
  },
  {
   "cell_type": "markdown",
   "metadata": {
    "collapsed": true
   },
   "source": [
    "There are a few problems with this:\n",
    "* When some worker functions take longer than others it can create a bottleneck. Jobs may be passed to the worker faster than can be processed and passed on to the next worker. Such a problem will eventually cause the program to crash.\n",
    "* CPU time is being wasted constantly checking for new input and then sleeping.\n",
    "\n",
    "The lesson is that it's hard to build a pipeline yourself. The Queue class is designed to solve these problems. Queue eliminates busy wait times by making the get method block until new data is available."
   ]
  },
  {
   "cell_type": "code",
   "execution_count": 17,
   "metadata": {
    "collapsed": false
   },
   "outputs": [
    {
     "data": {
      "text/plain": [
       "(True, False)"
      ]
     },
     "execution_count": 17,
     "metadata": {},
     "output_type": "execute_result"
    }
   ],
   "source": [
    "import six\n",
    "six.PY2, six.PY3"
   ]
  },
  {
   "cell_type": "code",
   "execution_count": 1,
   "metadata": {
    "collapsed": false
   },
   "outputs": [
    {
     "name": "stdout",
     "output_type": "stream",
     "text": [
      "Consumer waiting\n"
     ]
    }
   ],
   "source": [
    "import six\n",
    "import threading\n",
    "\n",
    "if six.PY2: # 'Queue' is Python 2 is 'queue' in Python 3\n",
    "    from Queue import Queue\n",
    "else: \n",
    "    from queue import Queue\n",
    "    \n",
    "queue = Queue()\n",
    "\n",
    "def consumer():\n",
    "    print('Consumer waiting')\n",
    "    value = queue.get() # Runs after put() below\n",
    "    print(\"Got: \", value)\n",
    "    print('Consumer done')\n",
    "\n",
    "thread = threading.Thread(target=consumer)\n",
    "thread.start()"
   ]
  },
  {
   "cell_type": "code",
   "execution_count": 2,
   "metadata": {
    "collapsed": false
   },
   "outputs": [
    {
     "name": "stdout",
     "output_type": "stream",
     "text": [
      "('Got: ', 'x')\n",
      "Consumer done\n"
     ]
    }
   ],
   "source": [
    "queue.put(\"x\")\n",
    "thread.join()"
   ]
  },
  {
   "cell_type": "markdown",
   "metadata": {},
   "source": [
    "Queue also allows you to specify the max allowable pending work. Calls to put will block when the queue is full."
   ]
  },
  {
   "cell_type": "code",
   "execution_count": 1,
   "metadata": {
    "collapsed": false
   },
   "outputs": [],
   "source": [
    "import six\n",
    "import threading\n",
    "import time\n",
    "if six.PY2:\n",
    "    from Queue import Queue\n",
    "else: \n",
    "    from queue import Queue\n",
    "\n",
    "queue = Queue(1) # Buffer size of 1\n",
    "\n",
    "def consumer():\n",
    "    time.sleep(0.1) # Wait\n",
    "    queue.get()     # Runs second\n",
    "    print('Consumer got 1')\n",
    "    queue.get()     # Runs fourth\n",
    "    print('Consumer got 2')\n",
    "    \n",
    "thread = threading.Thread(target=consumer)\n",
    "thread.start()"
   ]
  },
  {
   "cell_type": "code",
   "execution_count": 2,
   "metadata": {
    "collapsed": false
   },
   "outputs": [
    {
     "name": "stdout",
     "output_type": "stream",
     "text": [
      "Producer put 1Consumer got 1\n",
      "\n",
      "Producer put 2\n",
      " Consumer got 2\n",
      "Producer done\n"
     ]
    }
   ],
   "source": [
    "queue.put(object()) # Runs first\n",
    "print('Producer put 1')\n",
    "queue.put(object()) # Runs third\n",
    "print('Producer put 2')\n",
    "thread.join()\n",
    "print('Producer done')"
   ]
  },
  {
   "cell_type": "markdown",
   "metadata": {},
   "source": [
    "Queue can also track the progress of your work using the task_done method. Here in_queue can't be joined until all of the queued tasks are complete."
   ]
  },
  {
   "cell_type": "code",
   "execution_count": 4,
   "metadata": {
    "collapsed": false
   },
   "outputs": [
    {
     "name": "stdout",
     "output_type": "stream",
     "text": [
      "Consumer waiting\n"
     ]
    }
   ],
   "source": [
    "in_queue = Queue()\n",
    "\n",
    "def consumer():\n",
    "    print('Consumer waiting')\n",
    "    work = in_queue.get() # Done second\n",
    "    print('Consumer working')\n",
    "    # Doing work\n",
    "    # …\n",
    "    print('Consumer done')\n",
    "    in_queue.task_done()  # Done third\n",
    "    \n",
    "threading.Thread(target=consumer).start()"
   ]
  },
  {
   "cell_type": "code",
   "execution_count": 5,
   "metadata": {
    "collapsed": false
   },
   "outputs": [
    {
     "name": "stdout",
     "output_type": "stream",
     "text": [
      "Producer waitingConsumer working\n",
      "Consumer done\n",
      "\n",
      "Producer done\n"
     ]
    }
   ],
   "source": [
    "in_queue.put(object()) # Done first\n",
    "print('Producer waiting')\n",
    "in_queue.join()        # Done fourth\n",
    "print('Producer done')"
   ]
  },
  {
   "cell_type": "markdown",
   "metadata": {},
   "source": [
    "Here, I define a close method that adds a special item to the queue that indicates there will be no more input items after it:"
   ]
  },
  {
   "cell_type": "code",
   "execution_count": 6,
   "metadata": {
    "collapsed": true
   },
   "outputs": [],
   "source": [
    "# https://docs.python.org/2/library/queue.html\n",
    "# task_done(): Indicate that a formerly enqueued task is complete.\n",
    "\n",
    "class ClosableQueue(Queue):\n",
    "    SENTINEL = object()\n",
    "    \n",
    "    def close(self):\n",
    "        self.put(self.SENTINEL)\n",
    "        \n",
    "    def __iter__(self):\n",
    "        while True:\n",
    "            item = self.get()\n",
    "            try:\n",
    "                if item is self.SENTINEL:\n",
    "                    return # Cause the thread to exit\n",
    "                yield item\n",
    "            finally:\n",
    "                self.task_done()"
   ]
  },
  {
   "cell_type": "markdown",
   "metadata": {},
   "source": [
    "The Queue class has all of the facilities you need to build robust pipelines: blocking operations, buffer sizes, and joining."
   ]
  },
  {
   "cell_type": "markdown",
   "metadata": {},
   "source": [
    "## Consider coroutines to run many functions concurrently\n",
    "Coroutines let you have many seemingly simultaneous functions in your Python programs."
   ]
  },
  {
   "cell_type": "code",
   "execution_count": 1,
   "metadata": {
    "collapsed": true
   },
   "outputs": [],
   "source": [
    "def my_coroutine():\n",
    "    while True:\n",
    "        received = yield\n",
    "        print(\"Received: \", received)"
   ]
  },
  {
   "cell_type": "code",
   "execution_count": 3,
   "metadata": {
    "collapsed": false
   },
   "outputs": [
    {
     "name": "stdout",
     "output_type": "stream",
     "text": [
      "('Received: ', 'First')\n"
     ]
    }
   ],
   "source": [
    "it = my_coroutine()\n",
    "next(it) # prime the coroutine (required)\n",
    "it.send(\"First\")"
   ]
  },
  {
   "cell_type": "code",
   "execution_count": 4,
   "metadata": {
    "collapsed": false
   },
   "outputs": [
    {
     "name": "stdout",
     "output_type": "stream",
     "text": [
      "('Received: ', 'Second')\n"
     ]
    }
   ],
   "source": [
    "it.send(\"Second\")"
   ]
  },
  {
   "cell_type": "code",
   "execution_count": 5,
   "metadata": {
    "collapsed": false
   },
   "outputs": [
    {
     "name": "stdout",
     "output_type": "stream",
     "text": [
      "('Received: ', 'Third')\n"
     ]
    }
   ],
   "source": [
    "it.send(\"Third\")"
   ]
  },
  {
   "cell_type": "markdown",
   "metadata": {},
   "source": [
    "Say you want to implement a generator coroutine that yields the minimum value it's been sent so far. "
   ]
  },
  {
   "cell_type": "code",
   "execution_count": 6,
   "metadata": {
    "collapsed": true
   },
   "outputs": [],
   "source": [
    "def minimize():\n",
    "    current = yield\n",
    "    while True:\n",
    "        value = yield current\n",
    "        current = min(value, current)"
   ]
  },
  {
   "cell_type": "code",
   "execution_count": 8,
   "metadata": {
    "collapsed": false
   },
   "outputs": [
    {
     "data": {
      "text/plain": [
       "10"
      ]
     },
     "execution_count": 8,
     "metadata": {},
     "output_type": "execute_result"
    }
   ],
   "source": [
    "it = minimize()\n",
    "next(it)\n",
    "it.send(10)"
   ]
  },
  {
   "cell_type": "code",
   "execution_count": 9,
   "metadata": {
    "collapsed": false
   },
   "outputs": [
    {
     "data": {
      "text/plain": [
       "4"
      ]
     },
     "execution_count": 9,
     "metadata": {},
     "output_type": "execute_result"
    }
   ],
   "source": [
    "it.send(4)"
   ]
  },
  {
   "cell_type": "code",
   "execution_count": 10,
   "metadata": {
    "collapsed": false
   },
   "outputs": [
    {
     "data": {
      "text/plain": [
       "4"
      ]
     },
     "execution_count": 10,
     "metadata": {},
     "output_type": "execute_result"
    }
   ],
   "source": [
    "it.send(22)"
   ]
  },
  {
   "cell_type": "code",
   "execution_count": 11,
   "metadata": {
    "collapsed": false
   },
   "outputs": [
    {
     "data": {
      "text/plain": [
       "-1"
      ]
     },
     "execution_count": 11,
     "metadata": {},
     "output_type": "execute_result"
    }
   ],
   "source": [
    "it.send(-1)"
   ]
  },
  {
   "cell_type": "markdown",
   "metadata": {},
   "source": [
    "Like threads, coroutines are independent functions that can consume inputs from their environment and produce resulting outputs. The difference is that coroutines pause at each yield expression in the generator function and resume after each call to send from the outside. In short, next() is required to start the coroutine which will wait at yield for any values that are sent via it.send()"
   ]
  },
  {
   "cell_type": "code",
   "execution_count": 24,
   "metadata": {
    "collapsed": true
   },
   "outputs": [],
   "source": [
    "def func():\n",
    "    while True:\n",
    "        got = yield\n",
    "        print(\"got\", got)"
   ]
  },
  {
   "cell_type": "code",
   "execution_count": 25,
   "metadata": {
    "collapsed": false
   },
   "outputs": [],
   "source": [
    "it = func()"
   ]
  },
  {
   "cell_type": "code",
   "execution_count": 26,
   "metadata": {
    "collapsed": false
   },
   "outputs": [],
   "source": [
    "it.next() # starts the coroutine"
   ]
  },
  {
   "cell_type": "code",
   "execution_count": 27,
   "metadata": {
    "collapsed": false
   },
   "outputs": [
    {
     "name": "stdout",
     "output_type": "stream",
     "text": [
      "('got', None)\n"
     ]
    }
   ],
   "source": [
    "it.next() # sends in None"
   ]
  },
  {
   "cell_type": "code",
   "execution_count": 28,
   "metadata": {
    "collapsed": false
   },
   "outputs": [
    {
     "name": "stdout",
     "output_type": "stream",
     "text": [
      "('got', None)\n"
     ]
    }
   ],
   "source": [
    "it.next() # sends in None"
   ]
  },
  {
   "cell_type": "code",
   "execution_count": 29,
   "metadata": {
    "collapsed": false
   },
   "outputs": [
    {
     "name": "stdout",
     "output_type": "stream",
     "text": [
      "('got', 'x')\n"
     ]
    }
   ],
   "source": [
    "it.send(\"x\")"
   ]
  },
  {
   "cell_type": "code",
   "execution_count": 30,
   "metadata": {
    "collapsed": false
   },
   "outputs": [
    {
     "name": "stdout",
     "output_type": "stream",
     "text": [
      "('got', 'y')\n"
     ]
    }
   ],
   "source": [
    "it.send(\"y\")"
   ]
  },
  {
   "cell_type": "code",
   "execution_count": 58,
   "metadata": {
    "collapsed": true
   },
   "outputs": [],
   "source": [
    "def func():\n",
    "    myList = []\n",
    "    while True:\n",
    "        got = yield        # receive a value\n",
    "        myList.append(got) # append it to our list\n",
    "        print(myList)"
   ]
  },
  {
   "cell_type": "code",
   "execution_count": 59,
   "metadata": {
    "collapsed": true
   },
   "outputs": [],
   "source": [
    "it = func()\n",
    "it.next()"
   ]
  },
  {
   "cell_type": "code",
   "execution_count": 60,
   "metadata": {
    "collapsed": false
   },
   "outputs": [
    {
     "name": "stdout",
     "output_type": "stream",
     "text": [
      "['x']\n"
     ]
    }
   ],
   "source": [
    "it.send(\"x\")"
   ]
  },
  {
   "cell_type": "code",
   "execution_count": 61,
   "metadata": {
    "collapsed": false
   },
   "outputs": [
    {
     "name": "stdout",
     "output_type": "stream",
     "text": [
      "['x', 'y']\n"
     ]
    }
   ],
   "source": [
    "it.send(\"y\")"
   ]
  },
  {
   "cell_type": "code",
   "execution_count": 62,
   "metadata": {
    "collapsed": false
   },
   "outputs": [
    {
     "name": "stdout",
     "output_type": "stream",
     "text": [
      "['x', 'y', 'z']\n"
     ]
    }
   ],
   "source": [
    "it.send(\"z\")"
   ]
  },
  {
   "cell_type": "code",
   "execution_count": 78,
   "metadata": {
    "collapsed": true
   },
   "outputs": [],
   "source": [
    "def func():\n",
    "    myList = []\n",
    "    while True:\n",
    "        got = yield myList # get the next value and give back myList\n",
    "        myList.append(got)"
   ]
  },
  {
   "cell_type": "code",
   "execution_count": 79,
   "metadata": {
    "collapsed": false
   },
   "outputs": [
    {
     "data": {
      "text/plain": [
       "[]"
      ]
     },
     "execution_count": 79,
     "metadata": {},
     "output_type": "execute_result"
    }
   ],
   "source": [
    "it = func()\n",
    "it.next()"
   ]
  },
  {
   "cell_type": "code",
   "execution_count": 80,
   "metadata": {
    "collapsed": false
   },
   "outputs": [
    {
     "data": {
      "text/plain": [
       "['x']"
      ]
     },
     "execution_count": 80,
     "metadata": {},
     "output_type": "execute_result"
    }
   ],
   "source": [
    "it.send(\"x\")"
   ]
  },
  {
   "cell_type": "code",
   "execution_count": 81,
   "metadata": {
    "collapsed": false
   },
   "outputs": [
    {
     "data": {
      "text/plain": [
       "['x', 'y']"
      ]
     },
     "execution_count": 81,
     "metadata": {},
     "output_type": "execute_result"
    }
   ],
   "source": [
    "it.send(\"y\")"
   ]
  },
  {
   "cell_type": "code",
   "execution_count": 82,
   "metadata": {
    "collapsed": false
   },
   "outputs": [
    {
     "data": {
      "text/plain": [
       "['x', 'y', 'y']"
      ]
     },
     "execution_count": 82,
     "metadata": {},
     "output_type": "execute_result"
    }
   ],
   "source": [
    "it.send(\"y\")"
   ]
  },
  {
   "cell_type": "markdown",
   "metadata": {},
   "source": [
    "## Consider concurrent.futures for True Parallelism"
   ]
  },
  {
   "cell_type": "code",
   "execution_count": null,
   "metadata": {
    "collapsed": true
   },
   "outputs": [],
   "source": []
  }
 ],
 "metadata": {
  "anaconda-cloud": {},
  "kernelspec": {
   "display_name": "Python 2",
   "language": "python",
   "name": "python2"
  },
  "language_info": {
   "codemirror_mode": {
    "name": "ipython",
    "version": 2
   },
   "file_extension": ".py",
   "mimetype": "text/x-python",
   "name": "python",
   "nbconvert_exporter": "python",
   "pygments_lexer": "ipython2",
   "version": "2.7.12"
  }
 },
 "nbformat": 4,
 "nbformat_minor": 2
}
