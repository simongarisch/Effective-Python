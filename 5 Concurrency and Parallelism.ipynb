{
 "cells": [
  {
   "cell_type": "markdown",
   "metadata": {},
   "source": [
    "## Use subprocess to manage child processes\n",
    "Child processes started by Python are able to run in parallel, enabling you to use Python to consume all of the CPU cores of your machine."
   ]
  },
  {
   "cell_type": "code",
   "execution_count": 1,
   "metadata": {
    "collapsed": false
   },
   "outputs": [
    {
     "name": "stdout",
     "output_type": "stream",
     "text": [
      "\"Hello from the child!\"\r\n",
      "\n"
     ]
    }
   ],
   "source": [
    "import subprocess\n",
    "\n",
    "proc = subprocess.Popen([\"echo\", \"Hello from the child!\"], stdout=subprocess.PIPE, shell=True)\n",
    "out, err = proc.communicate()\n",
    "print(out.decode(\"utf-8\"))"
   ]
  },
  {
   "cell_type": "markdown",
   "metadata": {
    "collapsed": true
   },
   "source": [
    "Child processes can run independently of their parent process, the Python interpreter. Their status can be polled periodically:"
   ]
  },
  {
   "cell_type": "code",
   "execution_count": 2,
   "metadata": {
    "collapsed": false
   },
   "outputs": [
    {
     "name": "stdout",
     "output_type": "stream",
     "text": [
      "Working...\n",
      "Working...\n",
      "Working...\n",
      "Working...\n",
      "Working...\n",
      "('Exit status', 1)\n"
     ]
    }
   ],
   "source": [
    "import time\n",
    "\n",
    "proc = subprocess.Popen([\"sleep\", \"0.3\"], shell=True)\n",
    "while proc.poll() is None:\n",
    "    print(\"Working...\")\n",
    "    time.sleep(0.05)\n",
    "    \n",
    "print(\"Exit status\", proc.poll())"
   ]
  },
  {
   "cell_type": "markdown",
   "metadata": {},
   "source": [
    "Starting several child processes..."
   ]
  },
  {
   "cell_type": "code",
   "execution_count": 8,
   "metadata": {
    "collapsed": false
   },
   "outputs": [
    {
     "name": "stdout",
     "output_type": "stream",
     "text": [
      "[1, 1, 1, 1, 1, 1, 1, 1, 1, 1]\n",
      "Finished in 0.669 seconds\n"
     ]
    }
   ],
   "source": [
    "# https://docs.python.org/2/library/subprocess.html\n",
    "import subprocess\n",
    "import time\n",
    "\n",
    "def run_sleep(period):\n",
    "    proc = subprocess.Popen([\"sleep\", str(period)], shell=True)\n",
    "    return proc\n",
    "    \n",
    "start = time.time()\n",
    "procs = []\n",
    "\n",
    "# start all of the processes\n",
    "for _ in range(10):\n",
    "    proc = run_sleep(0.1)\n",
    "    procs.append(proc)\n",
    "\n",
    "for proc in procs:\n",
    "    proc.communicate()\n",
    "\n",
    "statusList = [proc.poll() for proc in procs]\n",
    "print(statusList)\n",
    "\n",
    "end = time.time()\n",
    "print(\"Finished in %.3f seconds\" % (end - start))"
   ]
  },
  {
   "cell_type": "code",
   "execution_count": 17,
   "metadata": {
    "collapsed": false
   },
   "outputs": [
    {
     "data": {
      "text/plain": [
       "0"
      ]
     },
     "execution_count": 17,
     "metadata": {},
     "output_type": "execute_result"
    }
   ],
   "source": [
    "# from https://pymotw.com/2/subprocess/\n",
    "import subprocess\n",
    "\n",
    "# Simple command\n",
    "subprocess.call([\"dir\"], shell=True) # running on Windows"
   ]
  },
  {
   "cell_type": "markdown",
   "metadata": {},
   "source": [
    "Setting the shell argument to a true value causes subprocess to spawn an intermediate shell process, and tell it to run the command. The default is to run the command directly. Using an intermediate shell means that variables, glob patterns, and other special shell features in the command string are processed before the command is run."
   ]
  },
  {
   "cell_type": "code",
   "execution_count": 18,
   "metadata": {
    "collapsed": false
   },
   "outputs": [
    {
     "data": {
      "text/plain": [
       "0"
      ]
     },
     "execution_count": 18,
     "metadata": {},
     "output_type": "execute_result"
    }
   ],
   "source": [
    "import subprocess\n",
    "\n",
    "# Command with shell expansion\n",
    "subprocess.call(\"echo $HOME\", shell=True)"
   ]
  },
  {
   "cell_type": "code",
   "execution_count": 19,
   "metadata": {
    "collapsed": false
   },
   "outputs": [
    {
     "name": "stdout",
     "output_type": "stream",
     "text": [
      "Have 805 bytes in output\n",
      " Volume in drive U is New Volume\r\n",
      " Volume Serial Number is AAD0-7DCA\r\n",
      "\r\n",
      " Directory of U:\\git\\Effective-Python\r\n",
      "\r\n",
      "09/05/2018  06:07 PM    <DIR>          .\r\n",
      "09/05/2018  06:07 PM    <DIR>          ..\r\n",
      "23/04/2018  05:29 PM             1,258 .gitignore\r\n",
      "07/05/2018  09:22 AM    <DIR>          .ipynb_checkpoints\r\n",
      "23/04/2018  05:16 PM            19,867 1 Pythonic Thinking.ipynb\r\n",
      "02/05/2018  07:01 PM            21,706 2 Functions.ipynb\r\n",
      "03/05/2018  06:27 PM            26,085 3 Classes and Inheritance.ipynb\r\n",
      "07/05/2018  09:20 AM            35,868 4 Metaclasses and Attributes.ipynb\r\n",
      "09/05/2018  06:07 PM             6,225 5 Concurrency and Parallelism.ipynb\r\n",
      "23/04/2018  05:29 PM               241 README.md\r\n",
      "               7 File(s)        115,346 bytes\r\n",
      "               3 Dir(s)  315,015,225,344 bytes free\r\n",
      "\n"
     ]
    }
   ],
   "source": [
    "# capturing output\n",
    "import subprocess\n",
    "\n",
    "output = subprocess.check_output([\"dir\"], shell=True) # running on Windows\n",
    "print 'Have %d bytes in output' % len(output)\n",
    "print output"
   ]
  },
  {
   "cell_type": "code",
   "execution_count": 21,
   "metadata": {
    "collapsed": false
   },
   "outputs": [
    {
     "name": "stdout",
     "output_type": "stream",
     "text": [
      "0\n",
      "\r\n",
      "[r] U:\\git\\Effective-Python>echo Message in a batch file! \r\n",
      "Message in a batch file!\r\n",
      "\n"
     ]
    }
   ],
   "source": [
    "# or running a batch file\n",
    "import subprocess\n",
    "\n",
    "filepath=\"myBatch.bat\"\n",
    "p = subprocess.Popen(filepath, shell=True, stdout = subprocess.PIPE)\n",
    "\n",
    "stdout, stderr = p.communicate()\n",
    "print p.returncode # is 0 if success\n",
    "print stdout"
   ]
  },
  {
   "cell_type": "markdown",
   "metadata": {},
   "source": [
    "## Use Threads for Blocking I/O, Avoid for Parallelism"
   ]
  },
  {
   "cell_type": "code",
   "execution_count": 22,
   "metadata": {
    "collapsed": false
   },
   "outputs": [
    {
     "name": "stdout",
     "output_type": "stream",
     "text": [
      "Took 0.575 seconds\n"
     ]
    }
   ],
   "source": [
    "import time\n",
    "\n",
    "def factorize(number):\n",
    "    for i in range(1, number + 1):\n",
    "        if number % i == 0:\n",
    "            yield i\n",
    "            \n",
    "numbers = [2139079, 1214759, 1516637, 1852285]\n",
    "start = time.time()\n",
    "for number in numbers:\n",
    "    list(factorize(number))\n",
    "end = time.time()\n",
    "print(\"Took %0.3f seconds\" % (end - start))"
   ]
  },
  {
   "cell_type": "markdown",
   "metadata": {},
   "source": [
    "Using threading for the same task"
   ]
  },
  {
   "cell_type": "code",
   "execution_count": 23,
   "metadata": {
    "collapsed": true
   },
   "outputs": [],
   "source": [
    "import threading\n",
    "\n",
    "class FactorizeThread(threading.Thread):\n",
    "    def __init__(self, number):\n",
    "        super(FactorizeThread, self).__init__()\n",
    "        self._number = number\n",
    "        \n",
    "    def run(self):\n",
    "        self.factors = list(factorize(self._number))\n"
   ]
  },
  {
   "cell_type": "code",
   "execution_count": 24,
   "metadata": {
    "collapsed": false
   },
   "outputs": [
    {
     "name": "stdout",
     "output_type": "stream",
     "text": [
      "Took 0.820 seconds\n"
     ]
    }
   ],
   "source": [
    "start = time.time()\n",
    "threads = []\n",
    "for number in numbers:\n",
    "    thread = FactorizeThread(number)\n",
    "    thread.start()\n",
    "    threads.append(thread)\n",
    "    \n",
    "for thread in threads:\n",
    "    thread.join()\n",
    "    \n",
    "end = time.time()\n",
    "print(\"Took %.3f seconds\" % (end - start))"
   ]
  },
  {
   "cell_type": "markdown",
   "metadata": {},
   "source": [
    "This is slower because of Python's GIL. Only one thread makes forward progress at a time."
   ]
  },
  {
   "cell_type": "markdown",
   "metadata": {},
   "source": [
    "## Use Lock to prevent data races in threads\n",
    "Here we have two threads both adding to a counter. If each count to 1000 then we might expect the total to be 2000, but this is not always the case."
   ]
  },
  {
   "cell_type": "code",
   "execution_count": 25,
   "metadata": {
    "collapsed": false
   },
   "outputs": [
    {
     "name": "stdout",
     "output_type": "stream",
     "text": [
      "2000\n",
      "2000\n",
      "2000\n",
      "1592\n",
      "2000\n"
     ]
    }
   ],
   "source": [
    "import threading\n",
    "import time\n",
    "\n",
    "class SomeThread(threading.Thread):\n",
    "    def __init__(self):\n",
    "        super(SomeThread, self).__init__()\n",
    "        self.daemon = True\n",
    "        self.start()\n",
    "        \n",
    "    def run(self):\n",
    "        for i in range(1000):\n",
    "            global count\n",
    "            count = count + 1\n",
    "\n",
    "for i in range(5):\n",
    "    count = 0\n",
    "    threads = [SomeThread(), SomeThread()]\n",
    "    [thread.join() for thread in threads]\n",
    "    print(count)"
   ]
  },
  {
   "cell_type": "markdown",
   "metadata": {},
   "source": [
    "Suppose thread 1 references the current value of count as 1500 and then increments it to 1501. However, before thread 1 gets the chance to change count the second thread also references count as 1500 and increments it to 1501. Thread 1 has not finished applying its increment before thread two operates on count and we end up with a global count variable that is incorrect. <br>\n",
    "<br>\n",
    "This is where locks come in: Locks are the most fundamental synchronization mechanism provided by the threading module. Locks are typically used to synchronize access to a shared resource. For each shared resource, create a Lock object. When you need to access the resource, call acquire to hold the lock (this will wait for the lock to be released, if necessary), and call release to release it. If a thread attempts to hold a lock that’s already held by some other thread, execution of the first thread is halted until the lock is released. The acquire method takes an optional wait flag, which can be used to avoid blocking if the lock is held by someone else:"
   ]
  },
  {
   "cell_type": "code",
   "execution_count": 26,
   "metadata": {
    "collapsed": false
   },
   "outputs": [
    {
     "name": "stdout",
     "output_type": "stream",
     "text": [
      "2000\n",
      "2000\n",
      "2000\n",
      "2000\n",
      "2000\n"
     ]
    }
   ],
   "source": [
    "import threading\n",
    "import time\n",
    "\n",
    "lock = threading.Lock() # create a lock per shared resource\n",
    "\n",
    "class SomeThread(threading.Thread):\n",
    "    def __init__(self):\n",
    "        super(SomeThread, self).__init__()\n",
    "        self.daemon = True\n",
    "        self.start()\n",
    "        \n",
    "    def run(self):\n",
    "        for i in range(1000):\n",
    "            global count\n",
    "            lock.acquire(True) # acquire the lock with wait for release by other threads = True\n",
    "            count = count + 1\n",
    "            lock.release()     # always release the lock so that resources can be accessed by other threads\n",
    "\n",
    "for i in range(5):\n",
    "    count = 0\n",
    "    threads = [SomeThread(), SomeThread()]\n",
    "    [thread.join() for thread in threads]\n",
    "    print(count)"
   ]
  },
  {
   "cell_type": "markdown",
   "metadata": {},
   "source": [
    "When using lock there is the possibility that a thread can block itself from acquiring the lock when calling lock.acquire if it already holds the lock itself:"
   ]
  },
  {
   "cell_type": "code",
   "execution_count": null,
   "metadata": {
    "collapsed": true
   },
   "outputs": [],
   "source": [
    "import threading\n",
    "import time\n",
    "\n",
    "lock = threading.Lock()\n",
    "\n",
    "class SomeThread(threading.Thread):\n",
    "    def __init__(self):\n",
    "        super(SomeThread, self).__init__()\n",
    "        self.daemon = True\n",
    "        self.start()\n",
    "        \n",
    "    def run(self):\n",
    "        for i in range(1000):\n",
    "            global count\n",
    "            lock.acquire(True)\n",
    "            lock.acquire(True)\n",
    "            count = count + 1\n",
    "            lock.release()\n",
    "\n",
    "count = 0\n",
    "thread = SomeThread()\n",
    "thread.join()\n",
    "print(count)"
   ]
  },
  {
   "cell_type": "markdown",
   "metadata": {},
   "source": [
    "Notice that the thread gets stuck. The thread attempts to acquire the lock twice with lock.acquire(True). When calling lock.acquire(True) a second time the thread will wait for the lock to be released not realising that the lock has already been acquired and unreleased by itself. To get around this there are reentrant locks (RLock Objects). With RLocks a thread cannot block itself from acquiring the lock:"
   ]
  },
  {
   "cell_type": "code",
   "execution_count": 1,
   "metadata": {
    "collapsed": false
   },
   "outputs": [
    {
     "name": "stdout",
     "output_type": "stream",
     "text": [
      "1000\n"
     ]
    }
   ],
   "source": [
    "import threading\n",
    "import time\n",
    "\n",
    "lock = threading.RLock()\n",
    "\n",
    "class SomeThread(threading.Thread):\n",
    "    def __init__(self):\n",
    "        super(SomeThread, self).__init__()\n",
    "        self.daemon = True\n",
    "        self.start()\n",
    "        \n",
    "    def run(self):\n",
    "        for i in range(1000):\n",
    "            global count\n",
    "            lock.acquire(True)\n",
    "            lock.acquire(True)\n",
    "            count = count + 1\n",
    "            lock.release()\n",
    "\n",
    "count = 0\n",
    "thread = SomeThread()\n",
    "thread.join()\n",
    "print(count)"
   ]
  },
  {
   "cell_type": "markdown",
   "metadata": {},
   "source": [
    "## Use Queue to coordinate work between threads"
   ]
  },
  {
   "cell_type": "code",
   "execution_count": null,
   "metadata": {
    "collapsed": true
   },
   "outputs": [],
   "source": []
  }
 ],
 "metadata": {
  "anaconda-cloud": {},
  "kernelspec": {
   "display_name": "Python 2",
   "language": "python",
   "name": "python2"
  },
  "language_info": {
   "codemirror_mode": {
    "name": "ipython",
    "version": 2
   },
   "file_extension": ".py",
   "mimetype": "text/x-python",
   "name": "python",
   "nbconvert_exporter": "python",
   "pygments_lexer": "ipython2",
   "version": "2.7.12"
  }
 },
 "nbformat": 4,
 "nbformat_minor": 2
}
